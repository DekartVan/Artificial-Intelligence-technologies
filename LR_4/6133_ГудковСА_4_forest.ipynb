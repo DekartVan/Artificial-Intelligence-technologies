{
 "cells": [
  {
   "cell_type": "markdown",
   "id": "24b4d5ae-3568-491b-8abf-5b3949fc9695",
   "metadata": {},
   "source": [
    "# Лабораторная работа № 4: Классификация. Деревья решений"
   ]
  },
  {
   "cell_type": "markdown",
   "id": "84a76133-c157-42e5-b7de-0a7e0a20d37d",
   "metadata": {},
   "source": [
    "## 1. Загрузка датасета и его описание"
   ]
  },
  {
   "cell_type": "code",
   "execution_count": 1,
   "id": "85578971-dfc2-4d13-9578-0d2a3f499f6a",
   "metadata": {},
   "outputs": [],
   "source": [
    "import pandas as pd\n",
    "import sklearn as sk\n",
    "import numpy as np\n",
    "\n",
    "from sklearn.model_selection import GridSearchCV\n",
    "from sklearn.tree import DecisionTreeClassifier\n",
    "from sklearn.ensemble import RandomForestClassifier\n",
    "from sklearn.neighbors import KNeighborsClassifier\n",
    "\n",
    "from sklearn.metrics import accuracy_score, precision_score, recall_score, f1_score, classification_report, confusion_matrix\n",
    "\n",
    "from sklearn.preprocessing import StandardScaler"
   ]
  },
  {
   "cell_type": "code",
   "execution_count": 2,
   "id": "e2ef9cf2-2634-4bd7-b540-3eaa7351c98c",
   "metadata": {},
   "outputs": [],
   "source": [
    "df = pd.read_csv('data/data.csv')"
   ]
  },
  {
   "cell_type": "markdown",
   "id": "edf6c6bc-1169-4954-a974-21d96dae1650",
   "metadata": {},
   "source": [
    "## 2. Датасет и подготовка данных: "
   ]
  },
  {
   "cell_type": "markdown",
   "id": "a22f47d4-e6fe-4503-8515-7e20f5b64689",
   "metadata": {},
   "source": [
    "### 2.1 Привести описание датасета"
   ]
  },
  {
   "cell_type": "markdown",
   "id": "988abbba-ea57-48d2-820e-726a0875789e",
   "metadata": {},
   "source": [
    "Heart Failure Prediction Dataset - https://www.kaggle.com/datasets/fedesoriano/heart-failure-prediction/data\n",
    "Сердечно-сосудистые заболевания (ССЗ) являются причиной смерти № 1 во всем мире, ежегодно унося, по оценкам, 17,9 миллиона жизней, что составляет 31% всех смертей во всем мире. Четыре из пяти смертей от сердечно-сосудистых заболеваний происходят в результате сердечных приступов и инсультов, и треть этих смертей происходит преждевременно у людей в возрасте до 70 лет. \n",
    "Вот табличное описание атрибутов датасета:\n",
    "\n",
    "| Атрибут           | Описание                                                                                   | Тип данных         |\n",
    "|-------------------|--------------------------------------------------------------------------------------------|-------------------|\n",
    "| Age               | Возраст пациента [лет]                                                                     | Количественный    |\n",
    "| Sex               | Пол пациента [М: Мужчина, F: Женщина]                                                       | Категориальный    |\n",
    "| ChestPainType     | Тип боли в груди [TA: Типичная ангина, ATA: Атипичная ангина, NAP: Неангинальная боль, ASY: Асимптоматическая] | Категориальный    |\n",
    "| RestingBP         | Артериальное давление в покое [мм рт. ст.]                                                 | Количественный    |\n",
    "| Cholesterol       | Уровень холестерина в сыворотке крови [мг/дл]                                               | Количественный    |\n",
    "| FastingBS         | Уровень глюкозы в крови натощак [1: если FastingBS > 120 мг/дл, 0: в противном случае]     | Категориальный    |\n",
    "| RestingECG        | Результаты электрокардиограммы в покое [Нормально: Нормально, ST: Аномалии волны ST-T (инверсии волны T и/или повышение или понижение ST более 0.05 мВ), LVH: Вероятное или определенное увеличение левого желудочка по критериям Estes] | Категориальный    |\n",
    "| MaxHR             | Максимальная достигнутая частота сердечных сокращений [Числовое значение между 60 и 202] | Количественный    |\n",
    "| ExerciseAngina    | Ангина, вызванная физической нагрузкой [Y: Да, N: Нет]                                       | Категориальный    |\n",
    "| Oldpeak           | Oldpeak = ST [Числовое значение, измеренное в депрессии]                                    | Количественный    |\n",
    "| ST_Slope          | Наклон пика сегмента ST при максимальной нагрузке [Up: восходящий, Flat: плоский, Down: нисходящий] | Категориальный    |\n",
    "| HeartDisease      | Выходной класс [1: сердечное заболевание, 0: Нормально]                                     | Категориальный    |\n",
    "\n",
    "Этот датасет содержит информацию о 11 признаках, которые могут использоваться для прогнозирования возможного сердечного заболевания."
   ]
  },
  {
   "cell_type": "code",
   "execution_count": 3,
   "id": "e3942d77-fa1c-42ba-844d-62d704c37df6",
   "metadata": {},
   "outputs": [
    {
     "data": {
      "text/html": [
       "<div>\n",
       "<style scoped>\n",
       "    .dataframe tbody tr th:only-of-type {\n",
       "        vertical-align: middle;\n",
       "    }\n",
       "\n",
       "    .dataframe tbody tr th {\n",
       "        vertical-align: top;\n",
       "    }\n",
       "\n",
       "    .dataframe thead th {\n",
       "        text-align: right;\n",
       "    }\n",
       "</style>\n",
       "<table border=\"1\" class=\"dataframe\">\n",
       "  <thead>\n",
       "    <tr style=\"text-align: right;\">\n",
       "      <th></th>\n",
       "      <th>Age</th>\n",
       "      <th>Sex</th>\n",
       "      <th>ChestPainType</th>\n",
       "      <th>RestingBP</th>\n",
       "      <th>Cholesterol</th>\n",
       "      <th>FastingBS</th>\n",
       "      <th>RestingECG</th>\n",
       "      <th>MaxHR</th>\n",
       "      <th>ExerciseAngina</th>\n",
       "      <th>Oldpeak</th>\n",
       "      <th>ST_Slope</th>\n",
       "      <th>HeartDisease</th>\n",
       "    </tr>\n",
       "  </thead>\n",
       "  <tbody>\n",
       "    <tr>\n",
       "      <th>0</th>\n",
       "      <td>40</td>\n",
       "      <td>M</td>\n",
       "      <td>ATA</td>\n",
       "      <td>140</td>\n",
       "      <td>289</td>\n",
       "      <td>0</td>\n",
       "      <td>Normal</td>\n",
       "      <td>172</td>\n",
       "      <td>N</td>\n",
       "      <td>0.0</td>\n",
       "      <td>Up</td>\n",
       "      <td>0</td>\n",
       "    </tr>\n",
       "    <tr>\n",
       "      <th>1</th>\n",
       "      <td>49</td>\n",
       "      <td>F</td>\n",
       "      <td>NAP</td>\n",
       "      <td>160</td>\n",
       "      <td>180</td>\n",
       "      <td>0</td>\n",
       "      <td>Normal</td>\n",
       "      <td>156</td>\n",
       "      <td>N</td>\n",
       "      <td>1.0</td>\n",
       "      <td>Flat</td>\n",
       "      <td>1</td>\n",
       "    </tr>\n",
       "    <tr>\n",
       "      <th>2</th>\n",
       "      <td>37</td>\n",
       "      <td>M</td>\n",
       "      <td>ATA</td>\n",
       "      <td>130</td>\n",
       "      <td>283</td>\n",
       "      <td>0</td>\n",
       "      <td>ST</td>\n",
       "      <td>98</td>\n",
       "      <td>N</td>\n",
       "      <td>0.0</td>\n",
       "      <td>Up</td>\n",
       "      <td>0</td>\n",
       "    </tr>\n",
       "    <tr>\n",
       "      <th>3</th>\n",
       "      <td>48</td>\n",
       "      <td>F</td>\n",
       "      <td>ASY</td>\n",
       "      <td>138</td>\n",
       "      <td>214</td>\n",
       "      <td>0</td>\n",
       "      <td>Normal</td>\n",
       "      <td>108</td>\n",
       "      <td>Y</td>\n",
       "      <td>1.5</td>\n",
       "      <td>Flat</td>\n",
       "      <td>1</td>\n",
       "    </tr>\n",
       "    <tr>\n",
       "      <th>4</th>\n",
       "      <td>54</td>\n",
       "      <td>M</td>\n",
       "      <td>NAP</td>\n",
       "      <td>150</td>\n",
       "      <td>195</td>\n",
       "      <td>0</td>\n",
       "      <td>Normal</td>\n",
       "      <td>122</td>\n",
       "      <td>N</td>\n",
       "      <td>0.0</td>\n",
       "      <td>Up</td>\n",
       "      <td>0</td>\n",
       "    </tr>\n",
       "  </tbody>\n",
       "</table>\n",
       "</div>"
      ],
      "text/plain": [
       "   Age Sex ChestPainType  RestingBP  Cholesterol  FastingBS RestingECG  MaxHR  \\\n",
       "0   40   M           ATA        140          289          0     Normal    172   \n",
       "1   49   F           NAP        160          180          0     Normal    156   \n",
       "2   37   M           ATA        130          283          0         ST     98   \n",
       "3   48   F           ASY        138          214          0     Normal    108   \n",
       "4   54   M           NAP        150          195          0     Normal    122   \n",
       "\n",
       "  ExerciseAngina  Oldpeak ST_Slope  HeartDisease  \n",
       "0              N      0.0       Up             0  \n",
       "1              N      1.0     Flat             1  \n",
       "2              N      0.0       Up             0  \n",
       "3              Y      1.5     Flat             1  \n",
       "4              N      0.0       Up             0  "
      ]
     },
     "execution_count": 3,
     "metadata": {},
     "output_type": "execute_result"
    }
   ],
   "source": [
    "df.head()"
   ]
  },
  {
   "cell_type": "code",
   "execution_count": 4,
   "id": "f3b33705-0b1c-427e-a809-981b5ddafa77",
   "metadata": {},
   "outputs": [
    {
     "name": "stdout",
     "output_type": "stream",
     "text": [
      "<class 'pandas.core.frame.DataFrame'>\n",
      "RangeIndex: 918 entries, 0 to 917\n",
      "Data columns (total 12 columns):\n",
      " #   Column          Non-Null Count  Dtype  \n",
      "---  ------          --------------  -----  \n",
      " 0   Age             918 non-null    int64  \n",
      " 1   Sex             918 non-null    object \n",
      " 2   ChestPainType   918 non-null    object \n",
      " 3   RestingBP       918 non-null    int64  \n",
      " 4   Cholesterol     918 non-null    int64  \n",
      " 5   FastingBS       918 non-null    int64  \n",
      " 6   RestingECG      918 non-null    object \n",
      " 7   MaxHR           918 non-null    int64  \n",
      " 8   ExerciseAngina  918 non-null    object \n",
      " 9   Oldpeak         918 non-null    float64\n",
      " 10  ST_Slope        918 non-null    object \n",
      " 11  HeartDisease    918 non-null    int64  \n",
      "dtypes: float64(1), int64(6), object(5)\n",
      "memory usage: 86.2+ KB\n"
     ]
    }
   ],
   "source": [
    "df.info()"
   ]
  },
  {
   "cell_type": "markdown",
   "id": "5a222425-ea78-4d1c-a754-2df10d91e196",
   "metadata": {},
   "source": [
    "### 2.2 Осуществить предобработку данных (избавиться от null, убрать некоторые признаки и т.п.) - \"подчистить данные\"."
   ]
  },
  {
   "cell_type": "markdown",
   "id": "af6d9716-47a9-4c51-88c8-855f6c150145",
   "metadata": {},
   "source": [
    "В данном случае предобработка данных не требуется. Будем рабоать с исходными данными."
   ]
  },
  {
   "cell_type": "markdown",
   "id": "cb57faf2-8bac-49be-b379-e3f05cbfdde7",
   "metadata": {},
   "source": [
    "### 2.3 Закодировать категориальные признаки при необходимости."
   ]
  },
  {
   "cell_type": "code",
   "execution_count": 5,
   "id": "87227d2f-796a-4ea9-8258-e704fb1e21ea",
   "metadata": {},
   "outputs": [
    {
     "data": {
      "text/plain": [
       "['Sex', 'ChestPainType', 'RestingECG', 'ExerciseAngina', 'ST_Slope']"
      ]
     },
     "execution_count": 5,
     "metadata": {},
     "output_type": "execute_result"
    }
   ],
   "source": [
    "obj_category = [var for var in df.columns if df[var].dtype == 'object']\n",
    "obj_category"
   ]
  },
  {
   "cell_type": "code",
   "execution_count": 6,
   "id": "44913c84-97dc-4e78-b3ea-f6dd9dfe6e66",
   "metadata": {},
   "outputs": [
    {
     "name": "stdout",
     "output_type": "stream",
     "text": [
      "Sex: 2 unique object\n",
      "ChestPainType: 4 unique object\n",
      "RestingECG: 3 unique object\n",
      "ExerciseAngina: 2 unique object\n",
      "ST_Slope: 3 unique object\n"
     ]
    }
   ],
   "source": [
    " for c in obj_category:\n",
    "     print(f'{c}: {len(df[c].unique())} unique object')"
   ]
  },
  {
   "cell_type": "markdown",
   "id": "7dca7c71-4b47-4988-9cd3-e396d64dfe6c",
   "metadata": {},
   "source": [
    "В датасете 5 котегориальных признака. \n",
    "Sex и ExerciseAngina закодируем с применениеем OneHotEncoder\n",
    "ChestPainType, RestingECG и ST_Slope будем кодировать с помощью LabelEncoder\n"
   ]
  },
  {
   "cell_type": "code",
   "execution_count": 7,
   "id": "6b55d86d-9cd0-4e99-8a76-ff31186e41ba",
   "metadata": {},
   "outputs": [
    {
     "data": {
      "text/html": [
       "<div>\n",
       "<style scoped>\n",
       "    .dataframe tbody tr th:only-of-type {\n",
       "        vertical-align: middle;\n",
       "    }\n",
       "\n",
       "    .dataframe tbody tr th {\n",
       "        vertical-align: top;\n",
       "    }\n",
       "\n",
       "    .dataframe thead th {\n",
       "        text-align: right;\n",
       "    }\n",
       "</style>\n",
       "<table border=\"1\" class=\"dataframe\">\n",
       "  <thead>\n",
       "    <tr style=\"text-align: right;\">\n",
       "      <th></th>\n",
       "      <th>Age</th>\n",
       "      <th>Sex</th>\n",
       "      <th>ChestPainType</th>\n",
       "      <th>RestingBP</th>\n",
       "      <th>Cholesterol</th>\n",
       "      <th>FastingBS</th>\n",
       "      <th>RestingECG</th>\n",
       "      <th>MaxHR</th>\n",
       "      <th>ExerciseAngina</th>\n",
       "      <th>Oldpeak</th>\n",
       "      <th>ST_Slope</th>\n",
       "      <th>HeartDisease</th>\n",
       "    </tr>\n",
       "  </thead>\n",
       "  <tbody>\n",
       "    <tr>\n",
       "      <th>0</th>\n",
       "      <td>40</td>\n",
       "      <td>M</td>\n",
       "      <td>1</td>\n",
       "      <td>140</td>\n",
       "      <td>289</td>\n",
       "      <td>0</td>\n",
       "      <td>1</td>\n",
       "      <td>172</td>\n",
       "      <td>N</td>\n",
       "      <td>0.0</td>\n",
       "      <td>2</td>\n",
       "      <td>0</td>\n",
       "    </tr>\n",
       "    <tr>\n",
       "      <th>1</th>\n",
       "      <td>49</td>\n",
       "      <td>F</td>\n",
       "      <td>2</td>\n",
       "      <td>160</td>\n",
       "      <td>180</td>\n",
       "      <td>0</td>\n",
       "      <td>1</td>\n",
       "      <td>156</td>\n",
       "      <td>N</td>\n",
       "      <td>1.0</td>\n",
       "      <td>1</td>\n",
       "      <td>1</td>\n",
       "    </tr>\n",
       "    <tr>\n",
       "      <th>2</th>\n",
       "      <td>37</td>\n",
       "      <td>M</td>\n",
       "      <td>1</td>\n",
       "      <td>130</td>\n",
       "      <td>283</td>\n",
       "      <td>0</td>\n",
       "      <td>2</td>\n",
       "      <td>98</td>\n",
       "      <td>N</td>\n",
       "      <td>0.0</td>\n",
       "      <td>2</td>\n",
       "      <td>0</td>\n",
       "    </tr>\n",
       "    <tr>\n",
       "      <th>3</th>\n",
       "      <td>48</td>\n",
       "      <td>F</td>\n",
       "      <td>0</td>\n",
       "      <td>138</td>\n",
       "      <td>214</td>\n",
       "      <td>0</td>\n",
       "      <td>1</td>\n",
       "      <td>108</td>\n",
       "      <td>Y</td>\n",
       "      <td>1.5</td>\n",
       "      <td>1</td>\n",
       "      <td>1</td>\n",
       "    </tr>\n",
       "    <tr>\n",
       "      <th>4</th>\n",
       "      <td>54</td>\n",
       "      <td>M</td>\n",
       "      <td>2</td>\n",
       "      <td>150</td>\n",
       "      <td>195</td>\n",
       "      <td>0</td>\n",
       "      <td>1</td>\n",
       "      <td>122</td>\n",
       "      <td>N</td>\n",
       "      <td>0.0</td>\n",
       "      <td>2</td>\n",
       "      <td>0</td>\n",
       "    </tr>\n",
       "  </tbody>\n",
       "</table>\n",
       "</div>"
      ],
      "text/plain": [
       "   Age Sex  ChestPainType  RestingBP  Cholesterol  FastingBS  RestingECG  \\\n",
       "0   40   M              1        140          289          0           1   \n",
       "1   49   F              2        160          180          0           1   \n",
       "2   37   M              1        130          283          0           2   \n",
       "3   48   F              0        138          214          0           1   \n",
       "4   54   M              2        150          195          0           1   \n",
       "\n",
       "   MaxHR ExerciseAngina  Oldpeak  ST_Slope  HeartDisease  \n",
       "0    172              N      0.0         2             0  \n",
       "1    156              N      1.0         1             1  \n",
       "2     98              N      0.0         2             0  \n",
       "3    108              Y      1.5         1             1  \n",
       "4    122              N      0.0         2             0  "
      ]
     },
     "execution_count": 7,
     "metadata": {},
     "output_type": "execute_result"
    }
   ],
   "source": [
    "from sklearn.preprocessing import LabelEncoder\n",
    "labelEncoder = LabelEncoder()\n",
    "categ_for_lable_encode = ['ChestPainType','RestingECG','ST_Slope']\n",
    "for category in categ_for_lable_encode:\n",
    "    df[category] = labelEncoder.fit_transform(df[category])\n",
    "df.head()"
   ]
  },
  {
   "cell_type": "code",
   "execution_count": 8,
   "id": "20baf257-1c1b-4568-a3b9-198f8c2aa74b",
   "metadata": {},
   "outputs": [],
   "source": [
    "categ_for_hot_encode = ['Sex', 'ExerciseAngina']\n",
    "df = pd.get_dummies(data=df, columns=categ_for_hot_encode, drop_first=False, dtype='int')"
   ]
  },
  {
   "cell_type": "code",
   "execution_count": 9,
   "id": "4afb454d-79ad-43e5-84ea-2bbc696f2d77",
   "metadata": {},
   "outputs": [
    {
     "data": {
      "text/html": [
       "<div>\n",
       "<style scoped>\n",
       "    .dataframe tbody tr th:only-of-type {\n",
       "        vertical-align: middle;\n",
       "    }\n",
       "\n",
       "    .dataframe tbody tr th {\n",
       "        vertical-align: top;\n",
       "    }\n",
       "\n",
       "    .dataframe thead th {\n",
       "        text-align: right;\n",
       "    }\n",
       "</style>\n",
       "<table border=\"1\" class=\"dataframe\">\n",
       "  <thead>\n",
       "    <tr style=\"text-align: right;\">\n",
       "      <th></th>\n",
       "      <th>Age</th>\n",
       "      <th>ChestPainType</th>\n",
       "      <th>RestingBP</th>\n",
       "      <th>Cholesterol</th>\n",
       "      <th>FastingBS</th>\n",
       "      <th>RestingECG</th>\n",
       "      <th>MaxHR</th>\n",
       "      <th>Oldpeak</th>\n",
       "      <th>ST_Slope</th>\n",
       "      <th>HeartDisease</th>\n",
       "      <th>Sex_F</th>\n",
       "      <th>Sex_M</th>\n",
       "      <th>ExerciseAngina_N</th>\n",
       "      <th>ExerciseAngina_Y</th>\n",
       "    </tr>\n",
       "  </thead>\n",
       "  <tbody>\n",
       "    <tr>\n",
       "      <th>0</th>\n",
       "      <td>40</td>\n",
       "      <td>1</td>\n",
       "      <td>140</td>\n",
       "      <td>289</td>\n",
       "      <td>0</td>\n",
       "      <td>1</td>\n",
       "      <td>172</td>\n",
       "      <td>0.0</td>\n",
       "      <td>2</td>\n",
       "      <td>0</td>\n",
       "      <td>0</td>\n",
       "      <td>1</td>\n",
       "      <td>1</td>\n",
       "      <td>0</td>\n",
       "    </tr>\n",
       "    <tr>\n",
       "      <th>1</th>\n",
       "      <td>49</td>\n",
       "      <td>2</td>\n",
       "      <td>160</td>\n",
       "      <td>180</td>\n",
       "      <td>0</td>\n",
       "      <td>1</td>\n",
       "      <td>156</td>\n",
       "      <td>1.0</td>\n",
       "      <td>1</td>\n",
       "      <td>1</td>\n",
       "      <td>1</td>\n",
       "      <td>0</td>\n",
       "      <td>1</td>\n",
       "      <td>0</td>\n",
       "    </tr>\n",
       "    <tr>\n",
       "      <th>2</th>\n",
       "      <td>37</td>\n",
       "      <td>1</td>\n",
       "      <td>130</td>\n",
       "      <td>283</td>\n",
       "      <td>0</td>\n",
       "      <td>2</td>\n",
       "      <td>98</td>\n",
       "      <td>0.0</td>\n",
       "      <td>2</td>\n",
       "      <td>0</td>\n",
       "      <td>0</td>\n",
       "      <td>1</td>\n",
       "      <td>1</td>\n",
       "      <td>0</td>\n",
       "    </tr>\n",
       "    <tr>\n",
       "      <th>3</th>\n",
       "      <td>48</td>\n",
       "      <td>0</td>\n",
       "      <td>138</td>\n",
       "      <td>214</td>\n",
       "      <td>0</td>\n",
       "      <td>1</td>\n",
       "      <td>108</td>\n",
       "      <td>1.5</td>\n",
       "      <td>1</td>\n",
       "      <td>1</td>\n",
       "      <td>1</td>\n",
       "      <td>0</td>\n",
       "      <td>0</td>\n",
       "      <td>1</td>\n",
       "    </tr>\n",
       "    <tr>\n",
       "      <th>4</th>\n",
       "      <td>54</td>\n",
       "      <td>2</td>\n",
       "      <td>150</td>\n",
       "      <td>195</td>\n",
       "      <td>0</td>\n",
       "      <td>1</td>\n",
       "      <td>122</td>\n",
       "      <td>0.0</td>\n",
       "      <td>2</td>\n",
       "      <td>0</td>\n",
       "      <td>0</td>\n",
       "      <td>1</td>\n",
       "      <td>1</td>\n",
       "      <td>0</td>\n",
       "    </tr>\n",
       "  </tbody>\n",
       "</table>\n",
       "</div>"
      ],
      "text/plain": [
       "   Age  ChestPainType  RestingBP  Cholesterol  FastingBS  RestingECG  MaxHR  \\\n",
       "0   40              1        140          289          0           1    172   \n",
       "1   49              2        160          180          0           1    156   \n",
       "2   37              1        130          283          0           2     98   \n",
       "3   48              0        138          214          0           1    108   \n",
       "4   54              2        150          195          0           1    122   \n",
       "\n",
       "   Oldpeak  ST_Slope  HeartDisease  Sex_F  Sex_M  ExerciseAngina_N  \\\n",
       "0      0.0         2             0      0      1                 1   \n",
       "1      1.0         1             1      1      0                 1   \n",
       "2      0.0         2             0      0      1                 1   \n",
       "3      1.5         1             1      1      0                 0   \n",
       "4      0.0         2             0      0      1                 1   \n",
       "\n",
       "   ExerciseAngina_Y  \n",
       "0                 0  \n",
       "1                 0  \n",
       "2                 0  \n",
       "3                 1  \n",
       "4                 0  "
      ]
     },
     "execution_count": 9,
     "metadata": {},
     "output_type": "execute_result"
    }
   ],
   "source": [
    "df.head()"
   ]
  },
  {
   "cell_type": "markdown",
   "id": "2441f9f9-6888-4918-bc79-c96324778049",
   "metadata": {},
   "source": [
    "### 2.4 Нормализовать данные."
   ]
  },
  {
   "cell_type": "code",
   "execution_count": 10,
   "id": "054d43cf-bf7d-441d-908b-c0fc46502254",
   "metadata": {},
   "outputs": [
    {
     "data": {
      "text/html": [
       "<div>\n",
       "<style scoped>\n",
       "    .dataframe tbody tr th:only-of-type {\n",
       "        vertical-align: middle;\n",
       "    }\n",
       "\n",
       "    .dataframe tbody tr th {\n",
       "        vertical-align: top;\n",
       "    }\n",
       "\n",
       "    .dataframe thead th {\n",
       "        text-align: right;\n",
       "    }\n",
       "</style>\n",
       "<table border=\"1\" class=\"dataframe\">\n",
       "  <thead>\n",
       "    <tr style=\"text-align: right;\">\n",
       "      <th></th>\n",
       "      <th>Age</th>\n",
       "      <th>ChestPainType</th>\n",
       "      <th>RestingBP</th>\n",
       "      <th>Cholesterol</th>\n",
       "      <th>FastingBS</th>\n",
       "      <th>RestingECG</th>\n",
       "      <th>MaxHR</th>\n",
       "      <th>Oldpeak</th>\n",
       "      <th>ST_Slope</th>\n",
       "      <th>Sex_F</th>\n",
       "      <th>Sex_M</th>\n",
       "      <th>ExerciseAngina_N</th>\n",
       "      <th>ExerciseAngina_Y</th>\n",
       "    </tr>\n",
       "  </thead>\n",
       "  <tbody>\n",
       "    <tr>\n",
       "      <th>0</th>\n",
       "      <td>-1.433140</td>\n",
       "      <td>0.229032</td>\n",
       "      <td>0.410909</td>\n",
       "      <td>0.825070</td>\n",
       "      <td>-0.551341</td>\n",
       "      <td>0.017255</td>\n",
       "      <td>1.382928</td>\n",
       "      <td>-0.832432</td>\n",
       "      <td>1.052114</td>\n",
       "      <td>-0.515952</td>\n",
       "      <td>0.515952</td>\n",
       "      <td>0.823556</td>\n",
       "      <td>-0.823556</td>\n",
       "    </tr>\n",
       "    <tr>\n",
       "      <th>1</th>\n",
       "      <td>-0.478484</td>\n",
       "      <td>1.275059</td>\n",
       "      <td>1.491752</td>\n",
       "      <td>-0.171961</td>\n",
       "      <td>-0.551341</td>\n",
       "      <td>0.017255</td>\n",
       "      <td>0.754157</td>\n",
       "      <td>0.105664</td>\n",
       "      <td>-0.596078</td>\n",
       "      <td>1.938163</td>\n",
       "      <td>-1.938163</td>\n",
       "      <td>0.823556</td>\n",
       "      <td>-0.823556</td>\n",
       "    </tr>\n",
       "    <tr>\n",
       "      <th>2</th>\n",
       "      <td>-1.751359</td>\n",
       "      <td>0.229032</td>\n",
       "      <td>-0.129513</td>\n",
       "      <td>0.770188</td>\n",
       "      <td>-0.551341</td>\n",
       "      <td>1.601219</td>\n",
       "      <td>-1.525138</td>\n",
       "      <td>-0.832432</td>\n",
       "      <td>1.052114</td>\n",
       "      <td>-0.515952</td>\n",
       "      <td>0.515952</td>\n",
       "      <td>0.823556</td>\n",
       "      <td>-0.823556</td>\n",
       "    </tr>\n",
       "    <tr>\n",
       "      <th>3</th>\n",
       "      <td>-0.584556</td>\n",
       "      <td>-0.816995</td>\n",
       "      <td>0.302825</td>\n",
       "      <td>0.139040</td>\n",
       "      <td>-0.551341</td>\n",
       "      <td>0.017255</td>\n",
       "      <td>-1.132156</td>\n",
       "      <td>0.574711</td>\n",
       "      <td>-0.596078</td>\n",
       "      <td>1.938163</td>\n",
       "      <td>-1.938163</td>\n",
       "      <td>-1.214246</td>\n",
       "      <td>1.214246</td>\n",
       "    </tr>\n",
       "    <tr>\n",
       "      <th>4</th>\n",
       "      <td>0.051881</td>\n",
       "      <td>1.275059</td>\n",
       "      <td>0.951331</td>\n",
       "      <td>-0.034755</td>\n",
       "      <td>-0.551341</td>\n",
       "      <td>0.017255</td>\n",
       "      <td>-0.581981</td>\n",
       "      <td>-0.832432</td>\n",
       "      <td>1.052114</td>\n",
       "      <td>-0.515952</td>\n",
       "      <td>0.515952</td>\n",
       "      <td>0.823556</td>\n",
       "      <td>-0.823556</td>\n",
       "    </tr>\n",
       "  </tbody>\n",
       "</table>\n",
       "</div>"
      ],
      "text/plain": [
       "        Age  ChestPainType  RestingBP  Cholesterol  FastingBS  RestingECG  \\\n",
       "0 -1.433140       0.229032   0.410909     0.825070  -0.551341    0.017255   \n",
       "1 -0.478484       1.275059   1.491752    -0.171961  -0.551341    0.017255   \n",
       "2 -1.751359       0.229032  -0.129513     0.770188  -0.551341    1.601219   \n",
       "3 -0.584556      -0.816995   0.302825     0.139040  -0.551341    0.017255   \n",
       "4  0.051881       1.275059   0.951331    -0.034755  -0.551341    0.017255   \n",
       "\n",
       "      MaxHR   Oldpeak  ST_Slope     Sex_F     Sex_M  ExerciseAngina_N  \\\n",
       "0  1.382928 -0.832432  1.052114 -0.515952  0.515952          0.823556   \n",
       "1  0.754157  0.105664 -0.596078  1.938163 -1.938163          0.823556   \n",
       "2 -1.525138 -0.832432  1.052114 -0.515952  0.515952          0.823556   \n",
       "3 -1.132156  0.574711 -0.596078  1.938163 -1.938163         -1.214246   \n",
       "4 -0.581981 -0.832432  1.052114 -0.515952  0.515952          0.823556   \n",
       "\n",
       "   ExerciseAngina_Y  \n",
       "0         -0.823556  \n",
       "1         -0.823556  \n",
       "2         -0.823556  \n",
       "3          1.214246  \n",
       "4         -0.823556  "
      ]
     },
     "execution_count": 10,
     "metadata": {},
     "output_type": "execute_result"
    }
   ],
   "source": [
    "X = df.drop('HeartDisease', axis = 1)\n",
    "y = df['HeartDisease']\n",
    "\n",
    "scaler = StandardScaler()\n",
    "X_scaled = scaler.fit_transform(X)\n",
    "X_scaled = pd.DataFrame(X_scaled, columns=X.columns)\n",
    "X_scaled.head()"
   ]
  },
  {
   "cell_type": "markdown",
   "id": "64f1a6e1-da49-44ad-b7fb-36afb8c60b51",
   "metadata": {},
   "source": [
    "### 2.5 Разбить выборку на обучающую и тестовую"
   ]
  },
  {
   "cell_type": "code",
   "execution_count": 11,
   "id": "e0888766-9f65-4741-bb37-f245eeb92ea4",
   "metadata": {},
   "outputs": [],
   "source": [
    "from sklearn.model_selection import train_test_split\n",
    "\n",
    "X_train, X_test, y_train, y_test = train_test_split(\n",
    "                X, y, test_size=0.33, random_state=42)"
   ]
  },
  {
   "cell_type": "markdown",
   "id": "c5f04a53-b1bf-49a0-ae1e-508822f50be3",
   "metadata": {},
   "source": [
    "## 3. Дерево решений: "
   ]
  },
  {
   "cell_type": "markdown",
   "id": "19844931-0bc9-4e35-b718-8e2415eddfb8",
   "metadata": {},
   "source": [
    "### 3.1 С использованием GridSearchCV осуществить подбор гиперпараметра DecisionTreeClassifier (как минимум max_depth, max_features, другие параметры - по желанию.)"
   ]
  },
  {
   "cell_type": "code",
   "execution_count": 12,
   "id": "951a1c77-320e-40a6-ac3e-3055a6a107a6",
   "metadata": {},
   "outputs": [],
   "source": [
    "grid = {\n",
    "    'max_depth': range(1, X.shape[1]),\n",
    "    'max_features': range(2, 20),\n",
    "    'min_samples_leaf': range(5, 20)\n",
    "}"
   ]
  },
  {
   "cell_type": "code",
   "execution_count": 13,
   "id": "0d772fc6-845f-4a4f-8071-9bd7a426ab20",
   "metadata": {},
   "outputs": [
    {
     "data": {
      "text/html": [
       "<style>#sk-container-id-1 {color: black;}#sk-container-id-1 pre{padding: 0;}#sk-container-id-1 div.sk-toggleable {background-color: white;}#sk-container-id-1 label.sk-toggleable__label {cursor: pointer;display: block;width: 100%;margin-bottom: 0;padding: 0.3em;box-sizing: border-box;text-align: center;}#sk-container-id-1 label.sk-toggleable__label-arrow:before {content: \"▸\";float: left;margin-right: 0.25em;color: #696969;}#sk-container-id-1 label.sk-toggleable__label-arrow:hover:before {color: black;}#sk-container-id-1 div.sk-estimator:hover label.sk-toggleable__label-arrow:before {color: black;}#sk-container-id-1 div.sk-toggleable__content {max-height: 0;max-width: 0;overflow: hidden;text-align: left;background-color: #f0f8ff;}#sk-container-id-1 div.sk-toggleable__content pre {margin: 0.2em;color: black;border-radius: 0.25em;background-color: #f0f8ff;}#sk-container-id-1 input.sk-toggleable__control:checked~div.sk-toggleable__content {max-height: 200px;max-width: 100%;overflow: auto;}#sk-container-id-1 input.sk-toggleable__control:checked~label.sk-toggleable__label-arrow:before {content: \"▾\";}#sk-container-id-1 div.sk-estimator input.sk-toggleable__control:checked~label.sk-toggleable__label {background-color: #d4ebff;}#sk-container-id-1 div.sk-label input.sk-toggleable__control:checked~label.sk-toggleable__label {background-color: #d4ebff;}#sk-container-id-1 input.sk-hidden--visually {border: 0;clip: rect(1px 1px 1px 1px);clip: rect(1px, 1px, 1px, 1px);height: 1px;margin: -1px;overflow: hidden;padding: 0;position: absolute;width: 1px;}#sk-container-id-1 div.sk-estimator {font-family: monospace;background-color: #f0f8ff;border: 1px dotted black;border-radius: 0.25em;box-sizing: border-box;margin-bottom: 0.5em;}#sk-container-id-1 div.sk-estimator:hover {background-color: #d4ebff;}#sk-container-id-1 div.sk-parallel-item::after {content: \"\";width: 100%;border-bottom: 1px solid gray;flex-grow: 1;}#sk-container-id-1 div.sk-label:hover label.sk-toggleable__label {background-color: #d4ebff;}#sk-container-id-1 div.sk-serial::before {content: \"\";position: absolute;border-left: 1px solid gray;box-sizing: border-box;top: 0;bottom: 0;left: 50%;z-index: 0;}#sk-container-id-1 div.sk-serial {display: flex;flex-direction: column;align-items: center;background-color: white;padding-right: 0.2em;padding-left: 0.2em;position: relative;}#sk-container-id-1 div.sk-item {position: relative;z-index: 1;}#sk-container-id-1 div.sk-parallel {display: flex;align-items: stretch;justify-content: center;background-color: white;position: relative;}#sk-container-id-1 div.sk-item::before, #sk-container-id-1 div.sk-parallel-item::before {content: \"\";position: absolute;border-left: 1px solid gray;box-sizing: border-box;top: 0;bottom: 0;left: 50%;z-index: -1;}#sk-container-id-1 div.sk-parallel-item {display: flex;flex-direction: column;z-index: 1;position: relative;background-color: white;}#sk-container-id-1 div.sk-parallel-item:first-child::after {align-self: flex-end;width: 50%;}#sk-container-id-1 div.sk-parallel-item:last-child::after {align-self: flex-start;width: 50%;}#sk-container-id-1 div.sk-parallel-item:only-child::after {width: 0;}#sk-container-id-1 div.sk-dashed-wrapped {border: 1px dashed gray;margin: 0 0.4em 0.5em 0.4em;box-sizing: border-box;padding-bottom: 0.4em;background-color: white;}#sk-container-id-1 div.sk-label label {font-family: monospace;font-weight: bold;display: inline-block;line-height: 1.2em;}#sk-container-id-1 div.sk-label-container {text-align: center;}#sk-container-id-1 div.sk-container {/* jupyter's `normalize.less` sets `[hidden] { display: none; }` but bootstrap.min.css set `[hidden] { display: none !important; }` so we also need the `!important` here to be able to override the default hidden behavior on the sphinx rendered scikit-learn.org. See: https://github.com/scikit-learn/scikit-learn/issues/21755 */display: inline-block !important;position: relative;}#sk-container-id-1 div.sk-text-repr-fallback {display: none;}</style><div id=\"sk-container-id-1\" class=\"sk-top-container\"><div class=\"sk-text-repr-fallback\"><pre>GridSearchCV(cv=5, estimator=DecisionTreeClassifier(),\n",
       "             param_grid={&#x27;max_depth&#x27;: range(1, 13),\n",
       "                         &#x27;max_features&#x27;: range(2, 20),\n",
       "                         &#x27;min_samples_leaf&#x27;: range(5, 20)})</pre><b>In a Jupyter environment, please rerun this cell to show the HTML representation or trust the notebook. <br />On GitHub, the HTML representation is unable to render, please try loading this page with nbviewer.org.</b></div><div class=\"sk-container\" hidden><div class=\"sk-item sk-dashed-wrapped\"><div class=\"sk-label-container\"><div class=\"sk-label sk-toggleable\"><input class=\"sk-toggleable__control sk-hidden--visually\" id=\"sk-estimator-id-1\" type=\"checkbox\" ><label for=\"sk-estimator-id-1\" class=\"sk-toggleable__label sk-toggleable__label-arrow\">GridSearchCV</label><div class=\"sk-toggleable__content\"><pre>GridSearchCV(cv=5, estimator=DecisionTreeClassifier(),\n",
       "             param_grid={&#x27;max_depth&#x27;: range(1, 13),\n",
       "                         &#x27;max_features&#x27;: range(2, 20),\n",
       "                         &#x27;min_samples_leaf&#x27;: range(5, 20)})</pre></div></div></div><div class=\"sk-parallel\"><div class=\"sk-parallel-item\"><div class=\"sk-item\"><div class=\"sk-label-container\"><div class=\"sk-label sk-toggleable\"><input class=\"sk-toggleable__control sk-hidden--visually\" id=\"sk-estimator-id-2\" type=\"checkbox\" ><label for=\"sk-estimator-id-2\" class=\"sk-toggleable__label sk-toggleable__label-arrow\">estimator: DecisionTreeClassifier</label><div class=\"sk-toggleable__content\"><pre>DecisionTreeClassifier()</pre></div></div></div><div class=\"sk-serial\"><div class=\"sk-item\"><div class=\"sk-estimator sk-toggleable\"><input class=\"sk-toggleable__control sk-hidden--visually\" id=\"sk-estimator-id-3\" type=\"checkbox\" ><label for=\"sk-estimator-id-3\" class=\"sk-toggleable__label sk-toggleable__label-arrow\">DecisionTreeClassifier</label><div class=\"sk-toggleable__content\"><pre>DecisionTreeClassifier()</pre></div></div></div></div></div></div></div></div></div></div>"
      ],
      "text/plain": [
       "GridSearchCV(cv=5, estimator=DecisionTreeClassifier(),\n",
       "             param_grid={'max_depth': range(1, 13),\n",
       "                         'max_features': range(2, 20),\n",
       "                         'min_samples_leaf': range(5, 20)})"
      ]
     },
     "execution_count": 13,
     "metadata": {},
     "output_type": "execute_result"
    }
   ],
   "source": [
    "model = DecisionTreeClassifier()\n",
    "\n",
    "search = GridSearchCV(model, grid, cv = 5)\n",
    "search.fit(X_train, y_train)"
   ]
  },
  {
   "cell_type": "markdown",
   "id": "6fe7c15b-3053-4f91-a8dc-eda68859c502",
   "metadata": {},
   "source": [
    "### 3.2 Вывести значения гиперпараметра и метрик для наилучшей модели DecisionTreeClassifier"
   ]
  },
  {
   "cell_type": "code",
   "execution_count": 14,
   "id": "8ba57db8-d0de-4927-8ec8-990d8f8e7389",
   "metadata": {},
   "outputs": [
    {
     "data": {
      "text/plain": [
       "{'max_depth': 3, 'max_features': 9, 'min_samples_leaf': 5}"
      ]
     },
     "execution_count": 14,
     "metadata": {},
     "output_type": "execute_result"
    }
   ],
   "source": [
    "search.best_params_"
   ]
  },
  {
   "cell_type": "code",
   "execution_count": 15,
   "id": "acb178ee-1c0e-42ab-bd36-ac5fcb4886c3",
   "metadata": {},
   "outputs": [],
   "source": [
    "best_model = search.best_estimator_"
   ]
  },
  {
   "cell_type": "code",
   "execution_count": 16,
   "id": "280f08fb-a2db-4e70-8509-80fc88fe4ab2",
   "metadata": {},
   "outputs": [
    {
     "name": "stdout",
     "output_type": "stream",
     "text": [
      "Accuracy:\t0.8536585365853658\n",
      "Precision:\t0.8459302325581395\n",
      "Recall:\t0.8871951219512195\n",
      "F-measure:\t0.8660714285714285\n"
     ]
    }
   ],
   "source": [
    "print(f'Accuracy:\\t{accuracy_score(y_train, best_model.predict(X_train))}')\n",
    "print(f'Precision:\\t{precision_score(y_train, best_model.predict(X_train))}')\n",
    "print(f'Recall:\\t{recall_score(y_train, best_model.predict(X_train))}')\n",
    "print(f'F-measure:\\t{f1_score(y_train, best_model.predict(X_train))}')"
   ]
  },
  {
   "cell_type": "markdown",
   "id": "bea5b8db-8aa6-4aa8-b284-1ae3bba90dfe",
   "metadata": {},
   "source": [
    "### 3.3 Для полученного наилучшего дерева вывести feature_importances, отсортировать их по убыванию."
   ]
  },
  {
   "cell_type": "code",
   "execution_count": 17,
   "id": "cfba159b-6316-44bc-b28a-9067fc20e3e4",
   "metadata": {},
   "outputs": [
    {
     "name": "stdout",
     "output_type": "stream",
     "text": [
      "ST_Slope         importance: 0.73746\n",
      "ChestPainType    importance: 0.11009\n",
      "Oldpeak          importance: 0.08638\n",
      "Sex_M            importance: 0.03744\n",
      "FastingBS        importance: 0.01982\n",
      "Sex_F            importance: 0.00880\n",
      "Age              importance: 0.00000\n",
      "RestingBP        importance: 0.00000\n",
      "Cholesterol      importance: 0.00000\n",
      "RestingECG       importance: 0.00000\n",
      "MaxHR            importance: 0.00000\n",
      "ExerciseAngina_N importance: 0.00000\n",
      "ExerciseAngina_Y importance: 0.00000\n"
     ]
    }
   ],
   "source": [
    "features = zip(X_train.columns, best_model.feature_importances_)\n",
    "features = sorted(features, key=lambda x: x[1], reverse=True)\n",
    "len_max = max([len(col) for col in X_train.columns])\n",
    "for f_name, f_val in features:\n",
    "    print(f\"{f_name:<{len_max}} importance: {f_val:.5f}\")"
   ]
  },
  {
   "cell_type": "markdown",
   "id": "2d91ce43-1bc6-4c76-83b9-0d1204d5ca70",
   "metadata": {},
   "source": [
    "### 3.4 Осуществить фильтрацию признаков (по какому-нибудь значению порога важности признака)."
   ]
  },
  {
   "cell_type": "code",
   "execution_count": 18,
   "id": "23ef7c58-b205-4f8e-8787-3d68c68c7bec",
   "metadata": {},
   "outputs": [
    {
     "data": {
      "text/plain": [
       "['ST_Slope', 'ChestPainType', 'Oldpeak']"
      ]
     },
     "execution_count": 18,
     "metadata": {},
     "output_type": "execute_result"
    }
   ],
   "source": [
    "f_val_t = np.mean([v for _, v in features])\n",
    "f_filtered = [f for f, v in features if v > f_val_t]\n",
    "f_filtered"
   ]
  },
  {
   "cell_type": "markdown",
   "id": "0513c4a0-b42e-42bc-a7ed-b859796fabe1",
   "metadata": {},
   "source": [
    "### 3.5 Подобрать лучшую модель с использованием GridSearchCV на обучающей выборке с отфильтрованными признаками."
   ]
  },
  {
   "cell_type": "code",
   "execution_count": 19,
   "id": "79d9618f-87c7-4145-93c8-4bbb59b171aa",
   "metadata": {},
   "outputs": [
    {
     "data": {
      "text/html": [
       "<div>\n",
       "<style scoped>\n",
       "    .dataframe tbody tr th:only-of-type {\n",
       "        vertical-align: middle;\n",
       "    }\n",
       "\n",
       "    .dataframe tbody tr th {\n",
       "        vertical-align: top;\n",
       "    }\n",
       "\n",
       "    .dataframe thead th {\n",
       "        text-align: right;\n",
       "    }\n",
       "</style>\n",
       "<table border=\"1\" class=\"dataframe\">\n",
       "  <thead>\n",
       "    <tr style=\"text-align: right;\">\n",
       "      <th></th>\n",
       "      <th>ST_Slope</th>\n",
       "      <th>ChestPainType</th>\n",
       "      <th>Oldpeak</th>\n",
       "    </tr>\n",
       "  </thead>\n",
       "  <tbody>\n",
       "    <tr>\n",
       "      <th>585</th>\n",
       "      <td>1</td>\n",
       "      <td>1</td>\n",
       "      <td>0.8</td>\n",
       "    </tr>\n",
       "    <tr>\n",
       "      <th>169</th>\n",
       "      <td>2</td>\n",
       "      <td>2</td>\n",
       "      <td>0.0</td>\n",
       "    </tr>\n",
       "    <tr>\n",
       "      <th>602</th>\n",
       "      <td>1</td>\n",
       "      <td>2</td>\n",
       "      <td>0.0</td>\n",
       "    </tr>\n",
       "    <tr>\n",
       "      <th>140</th>\n",
       "      <td>1</td>\n",
       "      <td>0</td>\n",
       "      <td>2.5</td>\n",
       "    </tr>\n",
       "    <tr>\n",
       "      <th>173</th>\n",
       "      <td>2</td>\n",
       "      <td>2</td>\n",
       "      <td>0.0</td>\n",
       "    </tr>\n",
       "  </tbody>\n",
       "</table>\n",
       "</div>"
      ],
      "text/plain": [
       "     ST_Slope  ChestPainType  Oldpeak\n",
       "585         1              1      0.8\n",
       "169         2              2      0.0\n",
       "602         1              2      0.0\n",
       "140         1              0      2.5\n",
       "173         2              2      0.0"
      ]
     },
     "execution_count": 19,
     "metadata": {},
     "output_type": "execute_result"
    }
   ],
   "source": [
    "X_train_filtered = X_train[f_filtered]\n",
    "X_train_filtered.head()"
   ]
  },
  {
   "cell_type": "code",
   "execution_count": 20,
   "id": "c7dc37e0-8951-41c4-8c50-134116a8c800",
   "metadata": {},
   "outputs": [
    {
     "data": {
      "text/html": [
       "<style>#sk-container-id-2 {color: black;}#sk-container-id-2 pre{padding: 0;}#sk-container-id-2 div.sk-toggleable {background-color: white;}#sk-container-id-2 label.sk-toggleable__label {cursor: pointer;display: block;width: 100%;margin-bottom: 0;padding: 0.3em;box-sizing: border-box;text-align: center;}#sk-container-id-2 label.sk-toggleable__label-arrow:before {content: \"▸\";float: left;margin-right: 0.25em;color: #696969;}#sk-container-id-2 label.sk-toggleable__label-arrow:hover:before {color: black;}#sk-container-id-2 div.sk-estimator:hover label.sk-toggleable__label-arrow:before {color: black;}#sk-container-id-2 div.sk-toggleable__content {max-height: 0;max-width: 0;overflow: hidden;text-align: left;background-color: #f0f8ff;}#sk-container-id-2 div.sk-toggleable__content pre {margin: 0.2em;color: black;border-radius: 0.25em;background-color: #f0f8ff;}#sk-container-id-2 input.sk-toggleable__control:checked~div.sk-toggleable__content {max-height: 200px;max-width: 100%;overflow: auto;}#sk-container-id-2 input.sk-toggleable__control:checked~label.sk-toggleable__label-arrow:before {content: \"▾\";}#sk-container-id-2 div.sk-estimator input.sk-toggleable__control:checked~label.sk-toggleable__label {background-color: #d4ebff;}#sk-container-id-2 div.sk-label input.sk-toggleable__control:checked~label.sk-toggleable__label {background-color: #d4ebff;}#sk-container-id-2 input.sk-hidden--visually {border: 0;clip: rect(1px 1px 1px 1px);clip: rect(1px, 1px, 1px, 1px);height: 1px;margin: -1px;overflow: hidden;padding: 0;position: absolute;width: 1px;}#sk-container-id-2 div.sk-estimator {font-family: monospace;background-color: #f0f8ff;border: 1px dotted black;border-radius: 0.25em;box-sizing: border-box;margin-bottom: 0.5em;}#sk-container-id-2 div.sk-estimator:hover {background-color: #d4ebff;}#sk-container-id-2 div.sk-parallel-item::after {content: \"\";width: 100%;border-bottom: 1px solid gray;flex-grow: 1;}#sk-container-id-2 div.sk-label:hover label.sk-toggleable__label {background-color: #d4ebff;}#sk-container-id-2 div.sk-serial::before {content: \"\";position: absolute;border-left: 1px solid gray;box-sizing: border-box;top: 0;bottom: 0;left: 50%;z-index: 0;}#sk-container-id-2 div.sk-serial {display: flex;flex-direction: column;align-items: center;background-color: white;padding-right: 0.2em;padding-left: 0.2em;position: relative;}#sk-container-id-2 div.sk-item {position: relative;z-index: 1;}#sk-container-id-2 div.sk-parallel {display: flex;align-items: stretch;justify-content: center;background-color: white;position: relative;}#sk-container-id-2 div.sk-item::before, #sk-container-id-2 div.sk-parallel-item::before {content: \"\";position: absolute;border-left: 1px solid gray;box-sizing: border-box;top: 0;bottom: 0;left: 50%;z-index: -1;}#sk-container-id-2 div.sk-parallel-item {display: flex;flex-direction: column;z-index: 1;position: relative;background-color: white;}#sk-container-id-2 div.sk-parallel-item:first-child::after {align-self: flex-end;width: 50%;}#sk-container-id-2 div.sk-parallel-item:last-child::after {align-self: flex-start;width: 50%;}#sk-container-id-2 div.sk-parallel-item:only-child::after {width: 0;}#sk-container-id-2 div.sk-dashed-wrapped {border: 1px dashed gray;margin: 0 0.4em 0.5em 0.4em;box-sizing: border-box;padding-bottom: 0.4em;background-color: white;}#sk-container-id-2 div.sk-label label {font-family: monospace;font-weight: bold;display: inline-block;line-height: 1.2em;}#sk-container-id-2 div.sk-label-container {text-align: center;}#sk-container-id-2 div.sk-container {/* jupyter's `normalize.less` sets `[hidden] { display: none; }` but bootstrap.min.css set `[hidden] { display: none !important; }` so we also need the `!important` here to be able to override the default hidden behavior on the sphinx rendered scikit-learn.org. See: https://github.com/scikit-learn/scikit-learn/issues/21755 */display: inline-block !important;position: relative;}#sk-container-id-2 div.sk-text-repr-fallback {display: none;}</style><div id=\"sk-container-id-2\" class=\"sk-top-container\"><div class=\"sk-text-repr-fallback\"><pre>GridSearchCV(cv=5, estimator=DecisionTreeClassifier(),\n",
       "             param_grid={&#x27;max_depth&#x27;: range(1, 13),\n",
       "                         &#x27;max_features&#x27;: range(2, 20),\n",
       "                         &#x27;min_samples_leaf&#x27;: range(5, 20)})</pre><b>In a Jupyter environment, please rerun this cell to show the HTML representation or trust the notebook. <br />On GitHub, the HTML representation is unable to render, please try loading this page with nbviewer.org.</b></div><div class=\"sk-container\" hidden><div class=\"sk-item sk-dashed-wrapped\"><div class=\"sk-label-container\"><div class=\"sk-label sk-toggleable\"><input class=\"sk-toggleable__control sk-hidden--visually\" id=\"sk-estimator-id-4\" type=\"checkbox\" ><label for=\"sk-estimator-id-4\" class=\"sk-toggleable__label sk-toggleable__label-arrow\">GridSearchCV</label><div class=\"sk-toggleable__content\"><pre>GridSearchCV(cv=5, estimator=DecisionTreeClassifier(),\n",
       "             param_grid={&#x27;max_depth&#x27;: range(1, 13),\n",
       "                         &#x27;max_features&#x27;: range(2, 20),\n",
       "                         &#x27;min_samples_leaf&#x27;: range(5, 20)})</pre></div></div></div><div class=\"sk-parallel\"><div class=\"sk-parallel-item\"><div class=\"sk-item\"><div class=\"sk-label-container\"><div class=\"sk-label sk-toggleable\"><input class=\"sk-toggleable__control sk-hidden--visually\" id=\"sk-estimator-id-5\" type=\"checkbox\" ><label for=\"sk-estimator-id-5\" class=\"sk-toggleable__label sk-toggleable__label-arrow\">estimator: DecisionTreeClassifier</label><div class=\"sk-toggleable__content\"><pre>DecisionTreeClassifier()</pre></div></div></div><div class=\"sk-serial\"><div class=\"sk-item\"><div class=\"sk-estimator sk-toggleable\"><input class=\"sk-toggleable__control sk-hidden--visually\" id=\"sk-estimator-id-6\" type=\"checkbox\" ><label for=\"sk-estimator-id-6\" class=\"sk-toggleable__label sk-toggleable__label-arrow\">DecisionTreeClassifier</label><div class=\"sk-toggleable__content\"><pre>DecisionTreeClassifier()</pre></div></div></div></div></div></div></div></div></div></div>"
      ],
      "text/plain": [
       "GridSearchCV(cv=5, estimator=DecisionTreeClassifier(),\n",
       "             param_grid={'max_depth': range(1, 13),\n",
       "                         'max_features': range(2, 20),\n",
       "                         'min_samples_leaf': range(5, 20)})"
      ]
     },
     "execution_count": 20,
     "metadata": {},
     "output_type": "execute_result"
    }
   ],
   "source": [
    "search_f = GridSearchCV(model, grid, cv = 5)\n",
    "search_f.fit(X_train_filtered, y_train)"
   ]
  },
  {
   "cell_type": "markdown",
   "id": "f0018434-e5eb-4e72-9515-9da6ed5320ad",
   "metadata": {},
   "source": [
    "### 3.6 Вывести полученные гиперпараметры лучшей модели."
   ]
  },
  {
   "cell_type": "code",
   "execution_count": 21,
   "id": "2d4fd98d-cb8c-4ea2-bdec-25dd0d4b22d2",
   "metadata": {},
   "outputs": [
    {
     "data": {
      "text/plain": [
       "{'max_depth': 11, 'max_features': 2, 'min_samples_leaf': 17}"
      ]
     },
     "execution_count": 21,
     "metadata": {},
     "output_type": "execute_result"
    }
   ],
   "source": [
    "search_f.best_params_"
   ]
  },
  {
   "cell_type": "markdown",
   "id": "4700b90c-a565-45fd-b6af-45e22b2bddce",
   "metadata": {},
   "source": [
    "### 3.7 Сравнить метрики до и после фильтрации признаков лучших моделей."
   ]
  },
  {
   "cell_type": "code",
   "execution_count": 22,
   "id": "599a3133-39ca-4dc9-9c3e-654b858ef951",
   "metadata": {},
   "outputs": [],
   "source": [
    "best_model_f = search_f.best_estimator_"
   ]
  },
  {
   "cell_type": "code",
   "execution_count": 23,
   "id": "5149a96e-603e-44f7-aafc-940ac58aaf6a",
   "metadata": {},
   "outputs": [
    {
     "name": "stdout",
     "output_type": "stream",
     "text": [
      "Before:\n",
      "Accuracy:\t0.8536585365853658\n",
      "Precision:\t0.8459302325581395\n",
      "Recall:\t0.8871951219512195\n",
      "F-measure:\t0.8660714285714285\n",
      "After:\n",
      "Accuracy:\t0.8520325203252033\n",
      "Precision:\t0.8601823708206687\n",
      "Recall:\t0.8628048780487805\n",
      "F-measure:\t0.8614916286149162\n"
     ]
    }
   ],
   "source": [
    "print(f\"Before:\")\n",
    "print(f'Accuracy:\\t{accuracy_score(y_train, best_model.predict(X_train))}')\n",
    "print(f'Precision:\\t{precision_score(y_train, best_model.predict(X_train))}')\n",
    "print(f'Recall:\\t{recall_score(y_train, best_model.predict(X_train))}')\n",
    "print(f'F-measure:\\t{f1_score(y_train, best_model.predict(X_train))}')\n",
    "print(f\"After:\")\n",
    "print(f'Accuracy:\\t{accuracy_score(y_train, best_model_f.predict(X_train_filtered))}')\n",
    "print(f'Precision:\\t{precision_score(y_train, best_model_f.predict(X_train_filtered))}')\n",
    "print(f'Recall:\\t{recall_score(y_train, best_model_f.predict(X_train_filtered))}')\n",
    "print(f'F-measure:\\t{f1_score(y_train, best_model_f.predict(X_train_filtered))}')"
   ]
  },
  {
   "cell_type": "markdown",
   "id": "100ba796-8e7b-4bd2-afdf-2bbd9a208e2a",
   "metadata": {},
   "source": [
    "## 4. Случайный лес "
   ]
  },
  {
   "cell_type": "markdown",
   "id": "46ca3778-db47-4d6e-bbe5-8a1d9724f1e3",
   "metadata": {},
   "source": [
    "### 4.1 Построить случайный лес (RandomForestClassifier), c использованием GridSearchCV осуществить подбор гиперпараметра."
   ]
  },
  {
   "cell_type": "code",
   "execution_count": 24,
   "id": "9f8bb1a3-b792-48c7-9205-50826c405f2a",
   "metadata": {},
   "outputs": [],
   "source": [
    "forest_model = RandomForestClassifier()"
   ]
  },
  {
   "cell_type": "code",
   "execution_count": 25,
   "id": "7d031193-e37e-478e-88cd-412364728dd7",
   "metadata": {},
   "outputs": [],
   "source": [
    "forest_grid = {\n",
    "    'max_depth': range(1, X.shape[1]),\n",
    "    'n_estimators': range(10, 151, 10)\n",
    "}"
   ]
  },
  {
   "cell_type": "code",
   "execution_count": 26,
   "id": "231c1f82-55b0-4414-8ffb-e6f2d17e34d7",
   "metadata": {},
   "outputs": [
    {
     "data": {
      "text/html": [
       "<style>#sk-container-id-3 {color: black;}#sk-container-id-3 pre{padding: 0;}#sk-container-id-3 div.sk-toggleable {background-color: white;}#sk-container-id-3 label.sk-toggleable__label {cursor: pointer;display: block;width: 100%;margin-bottom: 0;padding: 0.3em;box-sizing: border-box;text-align: center;}#sk-container-id-3 label.sk-toggleable__label-arrow:before {content: \"▸\";float: left;margin-right: 0.25em;color: #696969;}#sk-container-id-3 label.sk-toggleable__label-arrow:hover:before {color: black;}#sk-container-id-3 div.sk-estimator:hover label.sk-toggleable__label-arrow:before {color: black;}#sk-container-id-3 div.sk-toggleable__content {max-height: 0;max-width: 0;overflow: hidden;text-align: left;background-color: #f0f8ff;}#sk-container-id-3 div.sk-toggleable__content pre {margin: 0.2em;color: black;border-radius: 0.25em;background-color: #f0f8ff;}#sk-container-id-3 input.sk-toggleable__control:checked~div.sk-toggleable__content {max-height: 200px;max-width: 100%;overflow: auto;}#sk-container-id-3 input.sk-toggleable__control:checked~label.sk-toggleable__label-arrow:before {content: \"▾\";}#sk-container-id-3 div.sk-estimator input.sk-toggleable__control:checked~label.sk-toggleable__label {background-color: #d4ebff;}#sk-container-id-3 div.sk-label input.sk-toggleable__control:checked~label.sk-toggleable__label {background-color: #d4ebff;}#sk-container-id-3 input.sk-hidden--visually {border: 0;clip: rect(1px 1px 1px 1px);clip: rect(1px, 1px, 1px, 1px);height: 1px;margin: -1px;overflow: hidden;padding: 0;position: absolute;width: 1px;}#sk-container-id-3 div.sk-estimator {font-family: monospace;background-color: #f0f8ff;border: 1px dotted black;border-radius: 0.25em;box-sizing: border-box;margin-bottom: 0.5em;}#sk-container-id-3 div.sk-estimator:hover {background-color: #d4ebff;}#sk-container-id-3 div.sk-parallel-item::after {content: \"\";width: 100%;border-bottom: 1px solid gray;flex-grow: 1;}#sk-container-id-3 div.sk-label:hover label.sk-toggleable__label {background-color: #d4ebff;}#sk-container-id-3 div.sk-serial::before {content: \"\";position: absolute;border-left: 1px solid gray;box-sizing: border-box;top: 0;bottom: 0;left: 50%;z-index: 0;}#sk-container-id-3 div.sk-serial {display: flex;flex-direction: column;align-items: center;background-color: white;padding-right: 0.2em;padding-left: 0.2em;position: relative;}#sk-container-id-3 div.sk-item {position: relative;z-index: 1;}#sk-container-id-3 div.sk-parallel {display: flex;align-items: stretch;justify-content: center;background-color: white;position: relative;}#sk-container-id-3 div.sk-item::before, #sk-container-id-3 div.sk-parallel-item::before {content: \"\";position: absolute;border-left: 1px solid gray;box-sizing: border-box;top: 0;bottom: 0;left: 50%;z-index: -1;}#sk-container-id-3 div.sk-parallel-item {display: flex;flex-direction: column;z-index: 1;position: relative;background-color: white;}#sk-container-id-3 div.sk-parallel-item:first-child::after {align-self: flex-end;width: 50%;}#sk-container-id-3 div.sk-parallel-item:last-child::after {align-self: flex-start;width: 50%;}#sk-container-id-3 div.sk-parallel-item:only-child::after {width: 0;}#sk-container-id-3 div.sk-dashed-wrapped {border: 1px dashed gray;margin: 0 0.4em 0.5em 0.4em;box-sizing: border-box;padding-bottom: 0.4em;background-color: white;}#sk-container-id-3 div.sk-label label {font-family: monospace;font-weight: bold;display: inline-block;line-height: 1.2em;}#sk-container-id-3 div.sk-label-container {text-align: center;}#sk-container-id-3 div.sk-container {/* jupyter's `normalize.less` sets `[hidden] { display: none; }` but bootstrap.min.css set `[hidden] { display: none !important; }` so we also need the `!important` here to be able to override the default hidden behavior on the sphinx rendered scikit-learn.org. See: https://github.com/scikit-learn/scikit-learn/issues/21755 */display: inline-block !important;position: relative;}#sk-container-id-3 div.sk-text-repr-fallback {display: none;}</style><div id=\"sk-container-id-3\" class=\"sk-top-container\"><div class=\"sk-text-repr-fallback\"><pre>GridSearchCV(cv=5, estimator=RandomForestClassifier(),\n",
       "             param_grid={&#x27;max_depth&#x27;: range(1, 13),\n",
       "                         &#x27;n_estimators&#x27;: range(10, 151, 10)})</pre><b>In a Jupyter environment, please rerun this cell to show the HTML representation or trust the notebook. <br />On GitHub, the HTML representation is unable to render, please try loading this page with nbviewer.org.</b></div><div class=\"sk-container\" hidden><div class=\"sk-item sk-dashed-wrapped\"><div class=\"sk-label-container\"><div class=\"sk-label sk-toggleable\"><input class=\"sk-toggleable__control sk-hidden--visually\" id=\"sk-estimator-id-7\" type=\"checkbox\" ><label for=\"sk-estimator-id-7\" class=\"sk-toggleable__label sk-toggleable__label-arrow\">GridSearchCV</label><div class=\"sk-toggleable__content\"><pre>GridSearchCV(cv=5, estimator=RandomForestClassifier(),\n",
       "             param_grid={&#x27;max_depth&#x27;: range(1, 13),\n",
       "                         &#x27;n_estimators&#x27;: range(10, 151, 10)})</pre></div></div></div><div class=\"sk-parallel\"><div class=\"sk-parallel-item\"><div class=\"sk-item\"><div class=\"sk-label-container\"><div class=\"sk-label sk-toggleable\"><input class=\"sk-toggleable__control sk-hidden--visually\" id=\"sk-estimator-id-8\" type=\"checkbox\" ><label for=\"sk-estimator-id-8\" class=\"sk-toggleable__label sk-toggleable__label-arrow\">estimator: RandomForestClassifier</label><div class=\"sk-toggleable__content\"><pre>RandomForestClassifier()</pre></div></div></div><div class=\"sk-serial\"><div class=\"sk-item\"><div class=\"sk-estimator sk-toggleable\"><input class=\"sk-toggleable__control sk-hidden--visually\" id=\"sk-estimator-id-9\" type=\"checkbox\" ><label for=\"sk-estimator-id-9\" class=\"sk-toggleable__label sk-toggleable__label-arrow\">RandomForestClassifier</label><div class=\"sk-toggleable__content\"><pre>RandomForestClassifier()</pre></div></div></div></div></div></div></div></div></div></div>"
      ],
      "text/plain": [
       "GridSearchCV(cv=5, estimator=RandomForestClassifier(),\n",
       "             param_grid={'max_depth': range(1, 13),\n",
       "                         'n_estimators': range(10, 151, 10)})"
      ]
     },
     "execution_count": 26,
     "metadata": {},
     "output_type": "execute_result"
    }
   ],
   "source": [
    "forest_search = GridSearchCV(forest_model, forest_grid, cv = 5)\n",
    "forest_search.fit(X_train, y_train)"
   ]
  },
  {
   "cell_type": "markdown",
   "id": "da1029c2-ff0d-4628-a42b-9d566e9038cf",
   "metadata": {},
   "source": [
    "### 4.2 Вывести полученные гиперпараметры лучшей модели случайного леса."
   ]
  },
  {
   "cell_type": "code",
   "execution_count": 27,
   "id": "91766619-7846-4957-bbe2-de7bdc578313",
   "metadata": {},
   "outputs": [
    {
     "data": {
      "text/plain": [
       "{'max_depth': 8, 'n_estimators': 70}"
      ]
     },
     "execution_count": 27,
     "metadata": {},
     "output_type": "execute_result"
    }
   ],
   "source": [
    "forest_search.best_params_"
   ]
  },
  {
   "cell_type": "markdown",
   "id": "838e75df-3978-41af-bd58-a5181a25b062",
   "metadata": {},
   "source": [
    "### 4.3 Осуществить фильтрацию признаков."
   ]
  },
  {
   "cell_type": "code",
   "execution_count": 28,
   "id": "c60be8c4-0684-4fcb-8816-57f89978c09d",
   "metadata": {},
   "outputs": [],
   "source": [
    "forest_best_model = forest_search.best_estimator_"
   ]
  },
  {
   "cell_type": "code",
   "execution_count": 29,
   "id": "dda92ac0-2b5e-483c-a5fd-a811c685684b",
   "metadata": {},
   "outputs": [
    {
     "name": "stdout",
     "output_type": "stream",
     "text": [
      "ST_Slope         importance: 0.22133\n",
      "ChestPainType    importance: 0.12978\n",
      "Oldpeak          importance: 0.12968\n",
      "MaxHR            importance: 0.09726\n",
      "Age              importance: 0.08378\n",
      "Cholesterol      importance: 0.08091\n",
      "ExerciseAngina_Y importance: 0.06994\n",
      "RestingBP        importance: 0.06302\n",
      "ExerciseAngina_N importance: 0.04476\n",
      "FastingBS        importance: 0.02205\n",
      "RestingECG       importance: 0.02130\n",
      "Sex_F            importance: 0.01974\n",
      "Sex_M            importance: 0.01645\n"
     ]
    }
   ],
   "source": [
    "forest_features = zip(X_train.columns, forest_best_model.feature_importances_)\n",
    "forest_features = sorted(forest_features, key=lambda x: x[1], reverse=True)\n",
    "forest_len_max = max([len(col) for col in X_train.columns])\n",
    "for f_name, f_val in forest_features:\n",
    "    print(f\"{f_name:<{forest_len_max}} importance: {f_val:.5f}\")"
   ]
  },
  {
   "cell_type": "code",
   "execution_count": 30,
   "id": "c738e237-27d5-4bae-bd1d-15049e98b1a4",
   "metadata": {},
   "outputs": [
    {
     "data": {
      "text/plain": [
       "['ST_Slope', 'ChestPainType', 'Oldpeak', 'MaxHR', 'Age', 'Cholesterol']"
      ]
     },
     "execution_count": 30,
     "metadata": {},
     "output_type": "execute_result"
    }
   ],
   "source": [
    "forest_f_val_t = np.mean([v for _, v in forest_features])\n",
    "forest_f_filtered = [f for f, v in forest_features if v > forest_f_val_t]\n",
    "forest_f_filtered"
   ]
  },
  {
   "cell_type": "markdown",
   "id": "1b3ceeac-ed5b-4e94-baa5-31aee4903fc2",
   "metadata": {},
   "source": [
    "### 4.4 Подобрать лучшую модель с использованием GridSearchCV на обучающей выборке с отфильтрованными признаками."
   ]
  },
  {
   "cell_type": "code",
   "execution_count": 31,
   "id": "bb19262e-c0c8-4028-bd7d-bb3427dc356a",
   "metadata": {},
   "outputs": [
    {
     "data": {
      "text/html": [
       "<div>\n",
       "<style scoped>\n",
       "    .dataframe tbody tr th:only-of-type {\n",
       "        vertical-align: middle;\n",
       "    }\n",
       "\n",
       "    .dataframe tbody tr th {\n",
       "        vertical-align: top;\n",
       "    }\n",
       "\n",
       "    .dataframe thead th {\n",
       "        text-align: right;\n",
       "    }\n",
       "</style>\n",
       "<table border=\"1\" class=\"dataframe\">\n",
       "  <thead>\n",
       "    <tr style=\"text-align: right;\">\n",
       "      <th></th>\n",
       "      <th>ST_Slope</th>\n",
       "      <th>ChestPainType</th>\n",
       "      <th>Oldpeak</th>\n",
       "      <th>MaxHR</th>\n",
       "      <th>Age</th>\n",
       "      <th>Cholesterol</th>\n",
       "    </tr>\n",
       "  </thead>\n",
       "  <tbody>\n",
       "    <tr>\n",
       "      <th>585</th>\n",
       "      <td>1</td>\n",
       "      <td>1</td>\n",
       "      <td>0.8</td>\n",
       "      <td>120</td>\n",
       "      <td>57</td>\n",
       "      <td>285</td>\n",
       "    </tr>\n",
       "    <tr>\n",
       "      <th>169</th>\n",
       "      <td>2</td>\n",
       "      <td>2</td>\n",
       "      <td>0.0</td>\n",
       "      <td>160</td>\n",
       "      <td>58</td>\n",
       "      <td>179</td>\n",
       "    </tr>\n",
       "    <tr>\n",
       "      <th>602</th>\n",
       "      <td>1</td>\n",
       "      <td>2</td>\n",
       "      <td>0.0</td>\n",
       "      <td>98</td>\n",
       "      <td>61</td>\n",
       "      <td>337</td>\n",
       "    </tr>\n",
       "    <tr>\n",
       "      <th>140</th>\n",
       "      <td>1</td>\n",
       "      <td>0</td>\n",
       "      <td>2.5</td>\n",
       "      <td>94</td>\n",
       "      <td>52</td>\n",
       "      <td>331</td>\n",
       "    </tr>\n",
       "    <tr>\n",
       "      <th>173</th>\n",
       "      <td>2</td>\n",
       "      <td>2</td>\n",
       "      <td>0.0</td>\n",
       "      <td>172</td>\n",
       "      <td>49</td>\n",
       "      <td>187</td>\n",
       "    </tr>\n",
       "  </tbody>\n",
       "</table>\n",
       "</div>"
      ],
      "text/plain": [
       "     ST_Slope  ChestPainType  Oldpeak  MaxHR  Age  Cholesterol\n",
       "585         1              1      0.8    120   57          285\n",
       "169         2              2      0.0    160   58          179\n",
       "602         1              2      0.0     98   61          337\n",
       "140         1              0      2.5     94   52          331\n",
       "173         2              2      0.0    172   49          187"
      ]
     },
     "execution_count": 31,
     "metadata": {},
     "output_type": "execute_result"
    }
   ],
   "source": [
    "X_train_forest_filtered = X_train[forest_f_filtered]\n",
    "X_train_forest_filtered.head()"
   ]
  },
  {
   "cell_type": "code",
   "execution_count": 32,
   "id": "65b8e4b6-f8fd-4c46-99ec-40c17c7eb272",
   "metadata": {},
   "outputs": [
    {
     "data": {
      "text/html": [
       "<style>#sk-container-id-4 {color: black;}#sk-container-id-4 pre{padding: 0;}#sk-container-id-4 div.sk-toggleable {background-color: white;}#sk-container-id-4 label.sk-toggleable__label {cursor: pointer;display: block;width: 100%;margin-bottom: 0;padding: 0.3em;box-sizing: border-box;text-align: center;}#sk-container-id-4 label.sk-toggleable__label-arrow:before {content: \"▸\";float: left;margin-right: 0.25em;color: #696969;}#sk-container-id-4 label.sk-toggleable__label-arrow:hover:before {color: black;}#sk-container-id-4 div.sk-estimator:hover label.sk-toggleable__label-arrow:before {color: black;}#sk-container-id-4 div.sk-toggleable__content {max-height: 0;max-width: 0;overflow: hidden;text-align: left;background-color: #f0f8ff;}#sk-container-id-4 div.sk-toggleable__content pre {margin: 0.2em;color: black;border-radius: 0.25em;background-color: #f0f8ff;}#sk-container-id-4 input.sk-toggleable__control:checked~div.sk-toggleable__content {max-height: 200px;max-width: 100%;overflow: auto;}#sk-container-id-4 input.sk-toggleable__control:checked~label.sk-toggleable__label-arrow:before {content: \"▾\";}#sk-container-id-4 div.sk-estimator input.sk-toggleable__control:checked~label.sk-toggleable__label {background-color: #d4ebff;}#sk-container-id-4 div.sk-label input.sk-toggleable__control:checked~label.sk-toggleable__label {background-color: #d4ebff;}#sk-container-id-4 input.sk-hidden--visually {border: 0;clip: rect(1px 1px 1px 1px);clip: rect(1px, 1px, 1px, 1px);height: 1px;margin: -1px;overflow: hidden;padding: 0;position: absolute;width: 1px;}#sk-container-id-4 div.sk-estimator {font-family: monospace;background-color: #f0f8ff;border: 1px dotted black;border-radius: 0.25em;box-sizing: border-box;margin-bottom: 0.5em;}#sk-container-id-4 div.sk-estimator:hover {background-color: #d4ebff;}#sk-container-id-4 div.sk-parallel-item::after {content: \"\";width: 100%;border-bottom: 1px solid gray;flex-grow: 1;}#sk-container-id-4 div.sk-label:hover label.sk-toggleable__label {background-color: #d4ebff;}#sk-container-id-4 div.sk-serial::before {content: \"\";position: absolute;border-left: 1px solid gray;box-sizing: border-box;top: 0;bottom: 0;left: 50%;z-index: 0;}#sk-container-id-4 div.sk-serial {display: flex;flex-direction: column;align-items: center;background-color: white;padding-right: 0.2em;padding-left: 0.2em;position: relative;}#sk-container-id-4 div.sk-item {position: relative;z-index: 1;}#sk-container-id-4 div.sk-parallel {display: flex;align-items: stretch;justify-content: center;background-color: white;position: relative;}#sk-container-id-4 div.sk-item::before, #sk-container-id-4 div.sk-parallel-item::before {content: \"\";position: absolute;border-left: 1px solid gray;box-sizing: border-box;top: 0;bottom: 0;left: 50%;z-index: -1;}#sk-container-id-4 div.sk-parallel-item {display: flex;flex-direction: column;z-index: 1;position: relative;background-color: white;}#sk-container-id-4 div.sk-parallel-item:first-child::after {align-self: flex-end;width: 50%;}#sk-container-id-4 div.sk-parallel-item:last-child::after {align-self: flex-start;width: 50%;}#sk-container-id-4 div.sk-parallel-item:only-child::after {width: 0;}#sk-container-id-4 div.sk-dashed-wrapped {border: 1px dashed gray;margin: 0 0.4em 0.5em 0.4em;box-sizing: border-box;padding-bottom: 0.4em;background-color: white;}#sk-container-id-4 div.sk-label label {font-family: monospace;font-weight: bold;display: inline-block;line-height: 1.2em;}#sk-container-id-4 div.sk-label-container {text-align: center;}#sk-container-id-4 div.sk-container {/* jupyter's `normalize.less` sets `[hidden] { display: none; }` but bootstrap.min.css set `[hidden] { display: none !important; }` so we also need the `!important` here to be able to override the default hidden behavior on the sphinx rendered scikit-learn.org. See: https://github.com/scikit-learn/scikit-learn/issues/21755 */display: inline-block !important;position: relative;}#sk-container-id-4 div.sk-text-repr-fallback {display: none;}</style><div id=\"sk-container-id-4\" class=\"sk-top-container\"><div class=\"sk-text-repr-fallback\"><pre>GridSearchCV(cv=5, estimator=RandomForestClassifier(),\n",
       "             param_grid={&#x27;max_depth&#x27;: range(1, 13),\n",
       "                         &#x27;n_estimators&#x27;: range(10, 151, 10)})</pre><b>In a Jupyter environment, please rerun this cell to show the HTML representation or trust the notebook. <br />On GitHub, the HTML representation is unable to render, please try loading this page with nbviewer.org.</b></div><div class=\"sk-container\" hidden><div class=\"sk-item sk-dashed-wrapped\"><div class=\"sk-label-container\"><div class=\"sk-label sk-toggleable\"><input class=\"sk-toggleable__control sk-hidden--visually\" id=\"sk-estimator-id-10\" type=\"checkbox\" ><label for=\"sk-estimator-id-10\" class=\"sk-toggleable__label sk-toggleable__label-arrow\">GridSearchCV</label><div class=\"sk-toggleable__content\"><pre>GridSearchCV(cv=5, estimator=RandomForestClassifier(),\n",
       "             param_grid={&#x27;max_depth&#x27;: range(1, 13),\n",
       "                         &#x27;n_estimators&#x27;: range(10, 151, 10)})</pre></div></div></div><div class=\"sk-parallel\"><div class=\"sk-parallel-item\"><div class=\"sk-item\"><div class=\"sk-label-container\"><div class=\"sk-label sk-toggleable\"><input class=\"sk-toggleable__control sk-hidden--visually\" id=\"sk-estimator-id-11\" type=\"checkbox\" ><label for=\"sk-estimator-id-11\" class=\"sk-toggleable__label sk-toggleable__label-arrow\">estimator: RandomForestClassifier</label><div class=\"sk-toggleable__content\"><pre>RandomForestClassifier()</pre></div></div></div><div class=\"sk-serial\"><div class=\"sk-item\"><div class=\"sk-estimator sk-toggleable\"><input class=\"sk-toggleable__control sk-hidden--visually\" id=\"sk-estimator-id-12\" type=\"checkbox\" ><label for=\"sk-estimator-id-12\" class=\"sk-toggleable__label sk-toggleable__label-arrow\">RandomForestClassifier</label><div class=\"sk-toggleable__content\"><pre>RandomForestClassifier()</pre></div></div></div></div></div></div></div></div></div></div>"
      ],
      "text/plain": [
       "GridSearchCV(cv=5, estimator=RandomForestClassifier(),\n",
       "             param_grid={'max_depth': range(1, 13),\n",
       "                         'n_estimators': range(10, 151, 10)})"
      ]
     },
     "execution_count": 32,
     "metadata": {},
     "output_type": "execute_result"
    }
   ],
   "source": [
    "forest_search_f = GridSearchCV(forest_model, forest_grid, cv = 5)\n",
    "forest_search_f.fit(X_train_forest_filtered, y_train)"
   ]
  },
  {
   "cell_type": "markdown",
   "id": "0b079b71-09e7-4941-bb6f-db01e0765bda",
   "metadata": {},
   "source": [
    "### 4.5 Вывести полученные гиперпараметры лучшей модели случайного леса."
   ]
  },
  {
   "cell_type": "code",
   "execution_count": 33,
   "id": "2c828018-cfbd-4545-8416-9a81efe8ea4b",
   "metadata": {},
   "outputs": [
    {
     "data": {
      "text/plain": [
       "{'max_depth': 4, 'n_estimators': 140}"
      ]
     },
     "execution_count": 33,
     "metadata": {},
     "output_type": "execute_result"
    }
   ],
   "source": [
    "forest_search_f.best_params_"
   ]
  },
  {
   "cell_type": "markdown",
   "id": "0937cdca-92f4-429c-a450-f7f284d32428",
   "metadata": {},
   "source": [
    "## 4.6 Сравнить метрики до и после фильтрации признаков лучших моделей."
   ]
  },
  {
   "cell_type": "code",
   "execution_count": 34,
   "id": "ce3bda58-1977-4bf9-841b-04500cd5e077",
   "metadata": {},
   "outputs": [],
   "source": [
    "forest_best_model_f = forest_search_f.best_estimator_"
   ]
  },
  {
   "cell_type": "code",
   "execution_count": 35,
   "id": "bfa38382-4bda-4305-a0c7-5451d3e3eed4",
   "metadata": {},
   "outputs": [
    {
     "name": "stdout",
     "output_type": "stream",
     "text": [
      "Before:\n",
      "Accuracy:\t0.9658536585365853\n",
      "Precision:\t0.9582089552238806\n",
      "Recall:\t0.9786585365853658\n",
      "F-measure:\t0.9683257918552036\n",
      "After:\n",
      "Accuracy:\t0.8747967479674796\n",
      "Precision:\t0.8535211267605634\n",
      "Recall:\t0.9237804878048781\n",
      "F-measure:\t0.8872620790629575\n"
     ]
    }
   ],
   "source": [
    "print(f\"Before:\")\n",
    "print(f'Accuracy:\\t{accuracy_score(y_train, forest_best_model.predict(X_train))}')\n",
    "print(f'Precision:\\t{precision_score(y_train, forest_best_model.predict(X_train))}')\n",
    "print(f'Recall:\\t{recall_score(y_train, forest_best_model.predict(X_train))}')\n",
    "print(f'F-measure:\\t{f1_score(y_train, forest_best_model.predict(X_train))}')\n",
    "print(f\"After:\")\n",
    "print(f'Accuracy:\\t{accuracy_score(y_train, forest_best_model_f.predict(X_train_forest_filtered))}')\n",
    "print(f'Precision:\\t{precision_score(y_train, forest_best_model_f.predict(X_train_forest_filtered))}')\n",
    "print(f'Recall:\\t{recall_score(y_train, forest_best_model_f.predict(X_train_forest_filtered))}')\n",
    "print(f'F-measure:\\t{f1_score(y_train, forest_best_model_f.predict(X_train_forest_filtered))}')"
   ]
  },
  {
   "cell_type": "markdown",
   "id": "94cc4f2a-44ff-4b1c-b26c-61987b9e9f44",
   "metadata": {},
   "source": [
    "## 5. Метод ближайших соседей: "
   ]
  },
  {
   "cell_type": "markdown",
   "id": "155b9c96-37e1-4c4c-8733-eac553bbe1cf",
   "metadata": {},
   "source": [
    "### 5.1 С использованием GridSearchCV осуществить подбор гиперпараметра KNeighborsClassifier (n_neighbors)."
   ]
  },
  {
   "cell_type": "code",
   "execution_count": 36,
   "id": "2190fc59-4a7f-4c1e-8610-d34144b2f42a",
   "metadata": {},
   "outputs": [],
   "source": [
    "knn_model = KNeighborsClassifier()"
   ]
  },
  {
   "cell_type": "code",
   "execution_count": 37,
   "id": "79c09ae3-e47d-42d4-8ce1-a9a6c7f7db78",
   "metadata": {},
   "outputs": [],
   "source": [
    "knn_grid = {\n",
    "    'n_neighbors': range(2, 21),\n",
    "}"
   ]
  },
  {
   "cell_type": "code",
   "execution_count": 38,
   "id": "4dc5da56-0c68-4b29-8f17-9982d078df7d",
   "metadata": {},
   "outputs": [
    {
     "data": {
      "text/html": [
       "<style>#sk-container-id-5 {color: black;}#sk-container-id-5 pre{padding: 0;}#sk-container-id-5 div.sk-toggleable {background-color: white;}#sk-container-id-5 label.sk-toggleable__label {cursor: pointer;display: block;width: 100%;margin-bottom: 0;padding: 0.3em;box-sizing: border-box;text-align: center;}#sk-container-id-5 label.sk-toggleable__label-arrow:before {content: \"▸\";float: left;margin-right: 0.25em;color: #696969;}#sk-container-id-5 label.sk-toggleable__label-arrow:hover:before {color: black;}#sk-container-id-5 div.sk-estimator:hover label.sk-toggleable__label-arrow:before {color: black;}#sk-container-id-5 div.sk-toggleable__content {max-height: 0;max-width: 0;overflow: hidden;text-align: left;background-color: #f0f8ff;}#sk-container-id-5 div.sk-toggleable__content pre {margin: 0.2em;color: black;border-radius: 0.25em;background-color: #f0f8ff;}#sk-container-id-5 input.sk-toggleable__control:checked~div.sk-toggleable__content {max-height: 200px;max-width: 100%;overflow: auto;}#sk-container-id-5 input.sk-toggleable__control:checked~label.sk-toggleable__label-arrow:before {content: \"▾\";}#sk-container-id-5 div.sk-estimator input.sk-toggleable__control:checked~label.sk-toggleable__label {background-color: #d4ebff;}#sk-container-id-5 div.sk-label input.sk-toggleable__control:checked~label.sk-toggleable__label {background-color: #d4ebff;}#sk-container-id-5 input.sk-hidden--visually {border: 0;clip: rect(1px 1px 1px 1px);clip: rect(1px, 1px, 1px, 1px);height: 1px;margin: -1px;overflow: hidden;padding: 0;position: absolute;width: 1px;}#sk-container-id-5 div.sk-estimator {font-family: monospace;background-color: #f0f8ff;border: 1px dotted black;border-radius: 0.25em;box-sizing: border-box;margin-bottom: 0.5em;}#sk-container-id-5 div.sk-estimator:hover {background-color: #d4ebff;}#sk-container-id-5 div.sk-parallel-item::after {content: \"\";width: 100%;border-bottom: 1px solid gray;flex-grow: 1;}#sk-container-id-5 div.sk-label:hover label.sk-toggleable__label {background-color: #d4ebff;}#sk-container-id-5 div.sk-serial::before {content: \"\";position: absolute;border-left: 1px solid gray;box-sizing: border-box;top: 0;bottom: 0;left: 50%;z-index: 0;}#sk-container-id-5 div.sk-serial {display: flex;flex-direction: column;align-items: center;background-color: white;padding-right: 0.2em;padding-left: 0.2em;position: relative;}#sk-container-id-5 div.sk-item {position: relative;z-index: 1;}#sk-container-id-5 div.sk-parallel {display: flex;align-items: stretch;justify-content: center;background-color: white;position: relative;}#sk-container-id-5 div.sk-item::before, #sk-container-id-5 div.sk-parallel-item::before {content: \"\";position: absolute;border-left: 1px solid gray;box-sizing: border-box;top: 0;bottom: 0;left: 50%;z-index: -1;}#sk-container-id-5 div.sk-parallel-item {display: flex;flex-direction: column;z-index: 1;position: relative;background-color: white;}#sk-container-id-5 div.sk-parallel-item:first-child::after {align-self: flex-end;width: 50%;}#sk-container-id-5 div.sk-parallel-item:last-child::after {align-self: flex-start;width: 50%;}#sk-container-id-5 div.sk-parallel-item:only-child::after {width: 0;}#sk-container-id-5 div.sk-dashed-wrapped {border: 1px dashed gray;margin: 0 0.4em 0.5em 0.4em;box-sizing: border-box;padding-bottom: 0.4em;background-color: white;}#sk-container-id-5 div.sk-label label {font-family: monospace;font-weight: bold;display: inline-block;line-height: 1.2em;}#sk-container-id-5 div.sk-label-container {text-align: center;}#sk-container-id-5 div.sk-container {/* jupyter's `normalize.less` sets `[hidden] { display: none; }` but bootstrap.min.css set `[hidden] { display: none !important; }` so we also need the `!important` here to be able to override the default hidden behavior on the sphinx rendered scikit-learn.org. See: https://github.com/scikit-learn/scikit-learn/issues/21755 */display: inline-block !important;position: relative;}#sk-container-id-5 div.sk-text-repr-fallback {display: none;}</style><div id=\"sk-container-id-5\" class=\"sk-top-container\"><div class=\"sk-text-repr-fallback\"><pre>GridSearchCV(cv=5, estimator=KNeighborsClassifier(),\n",
       "             param_grid={&#x27;n_neighbors&#x27;: range(2, 21)})</pre><b>In a Jupyter environment, please rerun this cell to show the HTML representation or trust the notebook. <br />On GitHub, the HTML representation is unable to render, please try loading this page with nbviewer.org.</b></div><div class=\"sk-container\" hidden><div class=\"sk-item sk-dashed-wrapped\"><div class=\"sk-label-container\"><div class=\"sk-label sk-toggleable\"><input class=\"sk-toggleable__control sk-hidden--visually\" id=\"sk-estimator-id-13\" type=\"checkbox\" ><label for=\"sk-estimator-id-13\" class=\"sk-toggleable__label sk-toggleable__label-arrow\">GridSearchCV</label><div class=\"sk-toggleable__content\"><pre>GridSearchCV(cv=5, estimator=KNeighborsClassifier(),\n",
       "             param_grid={&#x27;n_neighbors&#x27;: range(2, 21)})</pre></div></div></div><div class=\"sk-parallel\"><div class=\"sk-parallel-item\"><div class=\"sk-item\"><div class=\"sk-label-container\"><div class=\"sk-label sk-toggleable\"><input class=\"sk-toggleable__control sk-hidden--visually\" id=\"sk-estimator-id-14\" type=\"checkbox\" ><label for=\"sk-estimator-id-14\" class=\"sk-toggleable__label sk-toggleable__label-arrow\">estimator: KNeighborsClassifier</label><div class=\"sk-toggleable__content\"><pre>KNeighborsClassifier()</pre></div></div></div><div class=\"sk-serial\"><div class=\"sk-item\"><div class=\"sk-estimator sk-toggleable\"><input class=\"sk-toggleable__control sk-hidden--visually\" id=\"sk-estimator-id-15\" type=\"checkbox\" ><label for=\"sk-estimator-id-15\" class=\"sk-toggleable__label sk-toggleable__label-arrow\">KNeighborsClassifier</label><div class=\"sk-toggleable__content\"><pre>KNeighborsClassifier()</pre></div></div></div></div></div></div></div></div></div></div>"
      ],
      "text/plain": [
       "GridSearchCV(cv=5, estimator=KNeighborsClassifier(),\n",
       "             param_grid={'n_neighbors': range(2, 21)})"
      ]
     },
     "execution_count": 38,
     "metadata": {},
     "output_type": "execute_result"
    }
   ],
   "source": [
    "knn_search = GridSearchCV(knn_model, knn_grid, cv = 5)\n",
    "knn_search.fit(X_train, y_train)"
   ]
  },
  {
   "cell_type": "markdown",
   "id": "12be111c-1c94-4311-867d-f867711987f1",
   "metadata": {},
   "source": [
    "### 5.2 Вывести значения гиперпараметра и метрик для наилучшей модели."
   ]
  },
  {
   "cell_type": "code",
   "execution_count": 39,
   "id": "707cfb33-b116-4c7e-a6af-843b453ea2ca",
   "metadata": {},
   "outputs": [
    {
     "data": {
      "text/plain": [
       "{'n_neighbors': 19}"
      ]
     },
     "execution_count": 39,
     "metadata": {},
     "output_type": "execute_result"
    }
   ],
   "source": [
    "knn_search.best_params_"
   ]
  },
  {
   "cell_type": "markdown",
   "id": "8566a1c2-d897-44c4-a2ba-88cbc96afe49",
   "metadata": {},
   "source": [
    "### 5.3 Осуществить фильтрацию признаков."
   ]
  },
  {
   "cell_type": "code",
   "execution_count": 40,
   "id": "06795189-0af4-44a4-8c2b-39d4689a2c4c",
   "metadata": {},
   "outputs": [
    {
     "data": {
      "text/html": [
       "<div>\n",
       "<style scoped>\n",
       "    .dataframe tbody tr th:only-of-type {\n",
       "        vertical-align: middle;\n",
       "    }\n",
       "\n",
       "    .dataframe tbody tr th {\n",
       "        vertical-align: top;\n",
       "    }\n",
       "\n",
       "    .dataframe thead th {\n",
       "        text-align: right;\n",
       "    }\n",
       "</style>\n",
       "<table border=\"1\" class=\"dataframe\">\n",
       "  <thead>\n",
       "    <tr style=\"text-align: right;\">\n",
       "      <th></th>\n",
       "      <th>ST_Slope</th>\n",
       "      <th>ChestPainType</th>\n",
       "      <th>Oldpeak</th>\n",
       "      <th>MaxHR</th>\n",
       "      <th>Age</th>\n",
       "      <th>Cholesterol</th>\n",
       "    </tr>\n",
       "  </thead>\n",
       "  <tbody>\n",
       "    <tr>\n",
       "      <th>585</th>\n",
       "      <td>1</td>\n",
       "      <td>1</td>\n",
       "      <td>0.8</td>\n",
       "      <td>120</td>\n",
       "      <td>57</td>\n",
       "      <td>285</td>\n",
       "    </tr>\n",
       "    <tr>\n",
       "      <th>169</th>\n",
       "      <td>2</td>\n",
       "      <td>2</td>\n",
       "      <td>0.0</td>\n",
       "      <td>160</td>\n",
       "      <td>58</td>\n",
       "      <td>179</td>\n",
       "    </tr>\n",
       "    <tr>\n",
       "      <th>602</th>\n",
       "      <td>1</td>\n",
       "      <td>2</td>\n",
       "      <td>0.0</td>\n",
       "      <td>98</td>\n",
       "      <td>61</td>\n",
       "      <td>337</td>\n",
       "    </tr>\n",
       "    <tr>\n",
       "      <th>140</th>\n",
       "      <td>1</td>\n",
       "      <td>0</td>\n",
       "      <td>2.5</td>\n",
       "      <td>94</td>\n",
       "      <td>52</td>\n",
       "      <td>331</td>\n",
       "    </tr>\n",
       "    <tr>\n",
       "      <th>173</th>\n",
       "      <td>2</td>\n",
       "      <td>2</td>\n",
       "      <td>0.0</td>\n",
       "      <td>172</td>\n",
       "      <td>49</td>\n",
       "      <td>187</td>\n",
       "    </tr>\n",
       "  </tbody>\n",
       "</table>\n",
       "</div>"
      ],
      "text/plain": [
       "     ST_Slope  ChestPainType  Oldpeak  MaxHR  Age  Cholesterol\n",
       "585         1              1      0.8    120   57          285\n",
       "169         2              2      0.0    160   58          179\n",
       "602         1              2      0.0     98   61          337\n",
       "140         1              0      2.5     94   52          331\n",
       "173         2              2      0.0    172   49          187"
      ]
     },
     "execution_count": 40,
     "metadata": {},
     "output_type": "execute_result"
    }
   ],
   "source": [
    "knn_filtered = forest_f_filtered\n",
    "X_train_knn_filtered = X_train[knn_filtered]\n",
    "X_train_knn_filtered.head()"
   ]
  },
  {
   "cell_type": "markdown",
   "id": "f7b305dc-e980-408a-9ade-137259eab27b",
   "metadata": {},
   "source": [
    "### 5.4 Подобрать лучшую модель с использованием GridSearchCV на обучающей выборке с отфильтрованными признаками."
   ]
  },
  {
   "cell_type": "code",
   "execution_count": 41,
   "id": "626bf223-00b1-4673-ad86-cdfc9f3b7bba",
   "metadata": {},
   "outputs": [
    {
     "data": {
      "text/html": [
       "<style>#sk-container-id-6 {color: black;}#sk-container-id-6 pre{padding: 0;}#sk-container-id-6 div.sk-toggleable {background-color: white;}#sk-container-id-6 label.sk-toggleable__label {cursor: pointer;display: block;width: 100%;margin-bottom: 0;padding: 0.3em;box-sizing: border-box;text-align: center;}#sk-container-id-6 label.sk-toggleable__label-arrow:before {content: \"▸\";float: left;margin-right: 0.25em;color: #696969;}#sk-container-id-6 label.sk-toggleable__label-arrow:hover:before {color: black;}#sk-container-id-6 div.sk-estimator:hover label.sk-toggleable__label-arrow:before {color: black;}#sk-container-id-6 div.sk-toggleable__content {max-height: 0;max-width: 0;overflow: hidden;text-align: left;background-color: #f0f8ff;}#sk-container-id-6 div.sk-toggleable__content pre {margin: 0.2em;color: black;border-radius: 0.25em;background-color: #f0f8ff;}#sk-container-id-6 input.sk-toggleable__control:checked~div.sk-toggleable__content {max-height: 200px;max-width: 100%;overflow: auto;}#sk-container-id-6 input.sk-toggleable__control:checked~label.sk-toggleable__label-arrow:before {content: \"▾\";}#sk-container-id-6 div.sk-estimator input.sk-toggleable__control:checked~label.sk-toggleable__label {background-color: #d4ebff;}#sk-container-id-6 div.sk-label input.sk-toggleable__control:checked~label.sk-toggleable__label {background-color: #d4ebff;}#sk-container-id-6 input.sk-hidden--visually {border: 0;clip: rect(1px 1px 1px 1px);clip: rect(1px, 1px, 1px, 1px);height: 1px;margin: -1px;overflow: hidden;padding: 0;position: absolute;width: 1px;}#sk-container-id-6 div.sk-estimator {font-family: monospace;background-color: #f0f8ff;border: 1px dotted black;border-radius: 0.25em;box-sizing: border-box;margin-bottom: 0.5em;}#sk-container-id-6 div.sk-estimator:hover {background-color: #d4ebff;}#sk-container-id-6 div.sk-parallel-item::after {content: \"\";width: 100%;border-bottom: 1px solid gray;flex-grow: 1;}#sk-container-id-6 div.sk-label:hover label.sk-toggleable__label {background-color: #d4ebff;}#sk-container-id-6 div.sk-serial::before {content: \"\";position: absolute;border-left: 1px solid gray;box-sizing: border-box;top: 0;bottom: 0;left: 50%;z-index: 0;}#sk-container-id-6 div.sk-serial {display: flex;flex-direction: column;align-items: center;background-color: white;padding-right: 0.2em;padding-left: 0.2em;position: relative;}#sk-container-id-6 div.sk-item {position: relative;z-index: 1;}#sk-container-id-6 div.sk-parallel {display: flex;align-items: stretch;justify-content: center;background-color: white;position: relative;}#sk-container-id-6 div.sk-item::before, #sk-container-id-6 div.sk-parallel-item::before {content: \"\";position: absolute;border-left: 1px solid gray;box-sizing: border-box;top: 0;bottom: 0;left: 50%;z-index: -1;}#sk-container-id-6 div.sk-parallel-item {display: flex;flex-direction: column;z-index: 1;position: relative;background-color: white;}#sk-container-id-6 div.sk-parallel-item:first-child::after {align-self: flex-end;width: 50%;}#sk-container-id-6 div.sk-parallel-item:last-child::after {align-self: flex-start;width: 50%;}#sk-container-id-6 div.sk-parallel-item:only-child::after {width: 0;}#sk-container-id-6 div.sk-dashed-wrapped {border: 1px dashed gray;margin: 0 0.4em 0.5em 0.4em;box-sizing: border-box;padding-bottom: 0.4em;background-color: white;}#sk-container-id-6 div.sk-label label {font-family: monospace;font-weight: bold;display: inline-block;line-height: 1.2em;}#sk-container-id-6 div.sk-label-container {text-align: center;}#sk-container-id-6 div.sk-container {/* jupyter's `normalize.less` sets `[hidden] { display: none; }` but bootstrap.min.css set `[hidden] { display: none !important; }` so we also need the `!important` here to be able to override the default hidden behavior on the sphinx rendered scikit-learn.org. See: https://github.com/scikit-learn/scikit-learn/issues/21755 */display: inline-block !important;position: relative;}#sk-container-id-6 div.sk-text-repr-fallback {display: none;}</style><div id=\"sk-container-id-6\" class=\"sk-top-container\"><div class=\"sk-text-repr-fallback\"><pre>GridSearchCV(cv=5, estimator=KNeighborsClassifier(),\n",
       "             param_grid={&#x27;n_neighbors&#x27;: range(2, 21)})</pre><b>In a Jupyter environment, please rerun this cell to show the HTML representation or trust the notebook. <br />On GitHub, the HTML representation is unable to render, please try loading this page with nbviewer.org.</b></div><div class=\"sk-container\" hidden><div class=\"sk-item sk-dashed-wrapped\"><div class=\"sk-label-container\"><div class=\"sk-label sk-toggleable\"><input class=\"sk-toggleable__control sk-hidden--visually\" id=\"sk-estimator-id-16\" type=\"checkbox\" ><label for=\"sk-estimator-id-16\" class=\"sk-toggleable__label sk-toggleable__label-arrow\">GridSearchCV</label><div class=\"sk-toggleable__content\"><pre>GridSearchCV(cv=5, estimator=KNeighborsClassifier(),\n",
       "             param_grid={&#x27;n_neighbors&#x27;: range(2, 21)})</pre></div></div></div><div class=\"sk-parallel\"><div class=\"sk-parallel-item\"><div class=\"sk-item\"><div class=\"sk-label-container\"><div class=\"sk-label sk-toggleable\"><input class=\"sk-toggleable__control sk-hidden--visually\" id=\"sk-estimator-id-17\" type=\"checkbox\" ><label for=\"sk-estimator-id-17\" class=\"sk-toggleable__label sk-toggleable__label-arrow\">estimator: KNeighborsClassifier</label><div class=\"sk-toggleable__content\"><pre>KNeighborsClassifier()</pre></div></div></div><div class=\"sk-serial\"><div class=\"sk-item\"><div class=\"sk-estimator sk-toggleable\"><input class=\"sk-toggleable__control sk-hidden--visually\" id=\"sk-estimator-id-18\" type=\"checkbox\" ><label for=\"sk-estimator-id-18\" class=\"sk-toggleable__label sk-toggleable__label-arrow\">KNeighborsClassifier</label><div class=\"sk-toggleable__content\"><pre>KNeighborsClassifier()</pre></div></div></div></div></div></div></div></div></div></div>"
      ],
      "text/plain": [
       "GridSearchCV(cv=5, estimator=KNeighborsClassifier(),\n",
       "             param_grid={'n_neighbors': range(2, 21)})"
      ]
     },
     "execution_count": 41,
     "metadata": {},
     "output_type": "execute_result"
    }
   ],
   "source": [
    "knn_search_f = GridSearchCV(knn_model, knn_grid, cv = 5)\n",
    "knn_search_f.fit(X_train_knn_filtered, y_train)"
   ]
  },
  {
   "cell_type": "markdown",
   "id": "c6ce5716-4085-4d68-aa0f-3e895121e3a3",
   "metadata": {},
   "source": [
    "### 5.5 Вывести полученные гиперпараметры лучшей модели случайного леса."
   ]
  },
  {
   "cell_type": "code",
   "execution_count": 42,
   "id": "f42c9f30-d880-464f-8d61-14b2d9d18f3c",
   "metadata": {},
   "outputs": [
    {
     "data": {
      "text/plain": [
       "{'n_neighbors': 18}"
      ]
     },
     "execution_count": 42,
     "metadata": {},
     "output_type": "execute_result"
    }
   ],
   "source": [
    "knn_search_f.best_params_"
   ]
  },
  {
   "cell_type": "markdown",
   "id": "568e1fbb-3e6c-4acf-bc4d-bd59433f9894",
   "metadata": {},
   "source": [
    "### 5.6 Сравнить метрики до и после фильтрации признаков."
   ]
  },
  {
   "cell_type": "code",
   "execution_count": 43,
   "id": "375042e7-47ca-49f3-a7ba-328b0a21b943",
   "metadata": {},
   "outputs": [],
   "source": [
    "knn_best_model = knn_search.best_estimator_\n",
    "knn_best_model_f = knn_search_f.best_estimator_"
   ]
  },
  {
   "cell_type": "code",
   "execution_count": 44,
   "id": "3d491af8-180f-47e4-b5a7-d6ce9c11c86b",
   "metadata": {},
   "outputs": [
    {
     "name": "stdout",
     "output_type": "stream",
     "text": [
      "Before:\n",
      "Accuracy:\t0.7300813008130081\n",
      "Precision:\t0.7396449704142012\n",
      "Recall:\t0.7621951219512195\n",
      "F-measure:\t0.7507507507507507\n",
      "After:\n",
      "Accuracy:\t0.7430894308943089\n",
      "Precision:\t0.7724358974358975\n",
      "Recall:\t0.7347560975609756\n",
      "F-measure:\t0.753125\n"
     ]
    }
   ],
   "source": [
    "print(f\"Before:\")\n",
    "print(f'Accuracy:\\t{accuracy_score(y_train, knn_best_model.predict(X_train))}')\n",
    "print(f'Precision:\\t{precision_score(y_train, knn_best_model.predict(X_train))}')\n",
    "print(f'Recall:\\t{recall_score(y_train, knn_best_model.predict(X_train))}')\n",
    "print(f'F-measure:\\t{f1_score(y_train, knn_best_model.predict(X_train))}')\n",
    "print(f\"After:\")\n",
    "print(f'Accuracy:\\t{accuracy_score(y_train, knn_best_model_f.predict(X_train_knn_filtered))}')\n",
    "print(f'Precision:\\t{precision_score(y_train, knn_best_model_f.predict(X_train_knn_filtered))}')\n",
    "print(f'Recall:\\t{recall_score(y_train, knn_best_model_f.predict(X_train_knn_filtered))}')\n",
    "print(f'F-measure:\\t{f1_score(y_train, knn_best_model_f.predict(X_train_knn_filtered))}')"
   ]
  },
  {
   "cell_type": "markdown",
   "id": "38d6c611-c4bd-45f8-b0d2-abf49bb3fe33",
   "metadata": {},
   "source": [
    "## 6. Если наблюдается улучшение метрик после фильтрации признаков хотя бы для одной из моделей, то для набора отфильтрованных признаков (пересечение множеств отфильтрованных признаков каждой модели или объединение множеств – не особо важно, главное описать, каким образом получен новый subset данных) заново построить наилучшие модели KNeighborsClassifier, DecisionTreeClassifier, RandomForestClassifier, сравнить модели в пункте 7 на одинаковом полученном наборе отфильтрованных признаков. Иначе – пропустить этот пункт."
   ]
  },
  {
   "cell_type": "markdown",
   "id": "142b01f6-61cb-4b56-846d-c5ba1979d4be",
   "metadata": {},
   "source": [
    "Значительных улучшений замечено не было. "
   ]
  },
  {
   "cell_type": "markdown",
   "id": "1ba34cdb-e22d-4cb4-a3f9-b23819948b0d",
   "metadata": {},
   "source": [
    "## 7. Оценка качества построенных моделей: "
   ]
  },
  {
   "cell_type": "markdown",
   "id": "3e323282-58ef-47e7-90b7-9f0a3eb21869",
   "metadata": {},
   "source": [
    "### 7.1 Визуализировать любое полученное дерево решений. "
   ]
  },
  {
   "cell_type": "code",
   "execution_count": 45,
   "id": "88a88b10-b2ec-4549-907c-b5742aa20e0a",
   "metadata": {},
   "outputs": [],
   "source": [
    "from sklearn.tree import plot_tree"
   ]
  },
  {
   "cell_type": "code",
   "execution_count": 55,
   "id": "cba4b8b4-617b-488b-b031-fc876c8048a2",
   "metadata": {},
   "outputs": [
    {
     "data": {
      "text/plain": [
       "[Text(0.6022727272727273, 0.9285714285714286, 'ST_Slope <= 1.5\\ngini = 0.498\\nsamples = 615\\nvalue = [287, 328]\\nclass = New building'),\n",
       " Text(0.3409090909090909, 0.7857142857142857, 'ChestPainType <= 0.5\\ngini = 0.313\\nsamples = 356\\nvalue = [69, 287]\\nclass = New building'),\n",
       " Text(0.18181818181818182, 0.6428571428571429, 'Oldpeak <= 1.05\\ngini = 0.185\\nsamples = 252\\nvalue = [26, 226]\\nclass = New building'),\n",
       " Text(0.09090909090909091, 0.5, 'Oldpeak <= 0.15\\ngini = 0.271\\nsamples = 105\\nvalue = [17, 88]\\nclass = New building'),\n",
       " Text(0.045454545454545456, 0.35714285714285715, 'gini = 0.036\\nsamples = 54\\nvalue = [1, 53]\\nclass = New building'),\n",
       " Text(0.13636363636363635, 0.35714285714285715, 'Oldpeak <= 0.85\\ngini = 0.431\\nsamples = 51\\nvalue = [16, 35]\\nclass = New building'),\n",
       " Text(0.09090909090909091, 0.21428571428571427, 'gini = 0.494\\nsamples = 18\\nvalue = [10, 8]\\nclass = Secondary'),\n",
       " Text(0.18181818181818182, 0.21428571428571427, 'gini = 0.298\\nsamples = 33\\nvalue = [6, 27]\\nclass = New building'),\n",
       " Text(0.2727272727272727, 0.5, 'Oldpeak <= 1.65\\ngini = 0.115\\nsamples = 147\\nvalue = [9, 138]\\nclass = New building'),\n",
       " Text(0.22727272727272727, 0.35714285714285715, 'gini = 0.177\\nsamples = 51\\nvalue = [5, 46]\\nclass = New building'),\n",
       " Text(0.3181818181818182, 0.35714285714285715, 'ST_Slope <= 0.5\\ngini = 0.08\\nsamples = 96\\nvalue = [4, 92]\\nclass = New building'),\n",
       " Text(0.2727272727272727, 0.21428571428571427, 'gini = 0.105\\nsamples = 18\\nvalue = [1, 17]\\nclass = New building'),\n",
       " Text(0.36363636363636365, 0.21428571428571427, 'Oldpeak <= 2.9\\ngini = 0.074\\nsamples = 78\\nvalue = [3, 75]\\nclass = New building'),\n",
       " Text(0.3181818181818182, 0.07142857142857142, 'gini = 0.036\\nsamples = 55\\nvalue = [1, 54]\\nclass = New building'),\n",
       " Text(0.4090909090909091, 0.07142857142857142, 'gini = 0.159\\nsamples = 23\\nvalue = [2, 21]\\nclass = New building'),\n",
       " Text(0.5, 0.6428571428571429, 'Oldpeak <= 0.05\\ngini = 0.485\\nsamples = 104\\nvalue = [43, 61]\\nclass = New building'),\n",
       " Text(0.45454545454545453, 0.5, 'gini = 0.33\\nsamples = 24\\nvalue = [5, 19]\\nclass = New building'),\n",
       " Text(0.5454545454545454, 0.5, 'ChestPainType <= 1.5\\ngini = 0.499\\nsamples = 80\\nvalue = [38, 42]\\nclass = New building'),\n",
       " Text(0.5, 0.35714285714285715, 'gini = 0.488\\nsamples = 19\\nvalue = [8, 11]\\nclass = New building'),\n",
       " Text(0.5909090909090909, 0.35714285714285715, 'Oldpeak <= 1.65\\ngini = 0.5\\nsamples = 61\\nvalue = [30, 31]\\nclass = New building'),\n",
       " Text(0.5454545454545454, 0.21428571428571427, 'Oldpeak <= 1.15\\ngini = 0.47\\nsamples = 37\\nvalue = [23, 14]\\nclass = Secondary'),\n",
       " Text(0.5, 0.07142857142857142, 'gini = 0.401\\nsamples = 18\\nvalue = [13, 5]\\nclass = Secondary'),\n",
       " Text(0.5909090909090909, 0.07142857142857142, 'gini = 0.499\\nsamples = 19\\nvalue = [10, 9]\\nclass = Secondary'),\n",
       " Text(0.6363636363636364, 0.21428571428571427, 'gini = 0.413\\nsamples = 24\\nvalue = [7, 17]\\nclass = New building'),\n",
       " Text(0.8636363636363636, 0.7857142857142857, 'Oldpeak <= 1.25\\ngini = 0.266\\nsamples = 259\\nvalue = [218, 41]\\nclass = Secondary'),\n",
       " Text(0.8181818181818182, 0.6428571428571429, 'Oldpeak <= 0.05\\ngini = 0.179\\nsamples = 231\\nvalue = [208, 23]\\nclass = Secondary'),\n",
       " Text(0.7272727272727273, 0.5, 'ChestPainType <= 0.5\\ngini = 0.141\\nsamples = 183\\nvalue = [169, 14]\\nclass = Secondary'),\n",
       " Text(0.6818181818181818, 0.35714285714285715, 'gini = 0.346\\nsamples = 54\\nvalue = [42, 12]\\nclass = Secondary'),\n",
       " Text(0.7727272727272727, 0.35714285714285715, 'ChestPainType <= 1.5\\ngini = 0.031\\nsamples = 129\\nvalue = [127, 2]\\nclass = Secondary'),\n",
       " Text(0.7272727272727273, 0.21428571428571427, 'gini = 0.026\\nsamples = 75\\nvalue = [74, 1]\\nclass = Secondary'),\n",
       " Text(0.8181818181818182, 0.21428571428571427, 'gini = 0.036\\nsamples = 54\\nvalue = [53, 1]\\nclass = Secondary'),\n",
       " Text(0.9090909090909091, 0.5, 'ChestPainType <= 0.5\\ngini = 0.305\\nsamples = 48\\nvalue = [39, 9]\\nclass = Secondary'),\n",
       " Text(0.8636363636363636, 0.35714285714285715, 'gini = 0.432\\nsamples = 19\\nvalue = [13, 6]\\nclass = Secondary'),\n",
       " Text(0.9545454545454546, 0.35714285714285715, 'gini = 0.185\\nsamples = 29\\nvalue = [26, 3]\\nclass = Secondary'),\n",
       " Text(0.9090909090909091, 0.6428571428571429, 'gini = 0.459\\nsamples = 28\\nvalue = [10, 18]\\nclass = New building')]"
      ]
     },
     "execution_count": 55,
     "metadata": {},
     "output_type": "execute_result"
    },
    {
     "data": {
      "image/png": "[encoded data removed]",
      "text/plain": [
       "<Figure size 640x480 with 1 Axes>"
      ]
     },
     "metadata": {},
     "output_type": "display_data"
    }
   ],
   "source": [
    "plot_tree(decision_tree=best_model_f, feature_names=X_train_filtered.columns, class_names=['Secondary','New building'])"
   ]
  },
  {
   "cell_type": "code",
   "execution_count": 56,
   "id": "c62834aa-3819-46f4-8ad5-c300510052bd",
   "metadata": {},
   "outputs": [],
   "source": [
    "from sklearn.tree import export_graphviz\n",
    "\n",
    "export_graphviz(\n",
    "    best_model,\n",
    "    feature_names=X_train.columns,\n",
    "    class_names=['Secondary','New building'],\n",
    "    out_file = 'small_tree.dot',\n",
    "    filled = True\n",
    ")"
   ]
  },
  {
   "cell_type": "code",
   "execution_count": 58,
   "id": "2b3aa90d-147a-495f-9ae4-370c5cbea32d",
   "metadata": {},
   "outputs": [],
   "source": [
    "!dot -Tpng ./small_tree.dot -o ./small_tree.png"
   ]
  },
  {
   "cell_type": "markdown",
   "id": "2cbad064-22ba-4723-9224-704fada5bb4f",
   "metadata": {},
   "source": [
    "### 7.2 Сравнить лучшие модели KNeighborsClassifier, DecisionTreeClassifier, RandomForestClassifier на тестовой выборке. Привести значения метрик."
   ]
  },
  {
   "cell_type": "code",
   "execution_count": 54,
   "id": "1e44123a-8423-4d33-b629-ef9b4af17105",
   "metadata": {},
   "outputs": [
    {
     "name": "stdout",
     "output_type": "stream",
     "text": [
      "-----------DECISION TREE-----------\n",
      "Accuracy:\t0.834983498349835\n",
      "Precision:\t0.8963414634146342\n",
      "Recall:\t0.8166666666666667\n",
      "F-measure:\t0.8546511627906977\n",
      "-----------RANDOM FOREST-----------\n",
      "Accuracy:\t0.8712871287128713\n",
      "Precision:\t0.9325153374233128\n",
      "Recall:\t0.8444444444444444\n",
      "F-measure:\t0.8862973760932943\n",
      "-----------KNN-----------\n",
      "Accuracy:\t0.6996699669966997\n",
      "Precision:\t0.7572254335260116\n",
      "Recall:\t0.7277777777777777\n",
      "F-measure:\t0.7422096317280452\n"
     ]
    }
   ],
   "source": [
    "print('-----------DECISION TREE-----------')\n",
    "print(f'Accuracy:\\t{accuracy_score(y_test, best_model.predict(X_test))}')\n",
    "print(f'Precision:\\t{precision_score(y_test, best_model.predict(X_test))}')\n",
    "print(f'Recall:\\t{recall_score(y_test, best_model.predict(X_test))}')\n",
    "print(f'F-measure:\\t{f1_score(y_test, best_model.predict(X_test))}')\n",
    "print('-----------RANDOM FOREST-----------')\n",
    "print(f'Accuracy:\\t{accuracy_score(y_test, forest_best_model.predict(X_test))}')\n",
    "print(f'Precision:\\t{precision_score(y_test, forest_best_model.predict(X_test))}')\n",
    "print(f'Recall:\\t{recall_score(y_test, forest_best_model.predict(X_test))}')\n",
    "print(f'F-measure:\\t{f1_score(y_test, forest_best_model.predict(X_test))}')\n",
    "print('-----------KNN-----------')\n",
    "print(f'Accuracy:\\t{accuracy_score(y_test, knn_best_model.predict(X_test))}')\n",
    "print(f'Precision:\\t{precision_score(y_test, knn_best_model.predict(X_test))}')\n",
    "print(f'Recall:\\t{recall_score(y_test, knn_best_model.predict(X_test))}')\n",
    "print(f'F-measure:\\t{f1_score(y_test, knn_best_model.predict(X_test))}')"
   ]
  }
 ],
 "metadata": {
  "kernelspec": {
   "display_name": "Python 3 (ipykernel)",
   "language": "python",
   "name": "python3"
  },
  "language_info": {
   "codemirror_mode": {
    "name": "ipython",
    "version": 3
   },
   "file_extension": ".py",
   "mimetype": "text/x-python",
   "name": "python",
   "nbconvert_exporter": "python",
   "pygments_lexer": "ipython3",
   "version": "3.8.3"
  }
 },
 "nbformat": 4,
 "nbformat_minor": 5
}
